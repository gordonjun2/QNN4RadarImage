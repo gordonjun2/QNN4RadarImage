{
 "cells": [
  {
   "cell_type": "code",
   "execution_count": 1,
   "metadata": {
    "id": "TiwOBw2bdsmt"
   },
   "outputs": [],
   "source": [
    "import sys\n",
    "sys.path.append('/home/jovyan/QNN4RadarImage/')"
   ]
  },
  {
   "cell_type": "code",
   "execution_count": 2,
   "metadata": {
    "id": "oNDU2xwsd9nx"
   },
   "outputs": [],
   "source": [
    "from tensorflow.keras.layers import Dense, Dropout, Conv2D, Activation, Flatten, MaxPool2D, BatchNormalization, AveragePooling2D\n",
    "from tensorflow.keras.callbacks import EarlyStopping\n",
    "from tensorflow.keras.models import Sequential\n",
    "from tensorflow.keras.optimizers import Adam, SGD"
   ]
  },
  {
   "cell_type": "markdown",
   "metadata": {
    "id": "yPVUcLU2gNA9"
   },
   "source": [
    "# Lenet-5"
   ]
  },
  {
   "cell_type": "code",
   "execution_count": 3,
   "metadata": {
    "colab": {
     "base_uri": "https://localhost:8080/"
    },
    "executionInfo": {
     "elapsed": 6153,
     "status": "ok",
     "timestamp": 1628155632706,
     "user": {
      "displayName": "Alessandro Sebastianelli",
      "photoUrl": "https://lh3.googleusercontent.com/a-/AOh14GgVWBLvEG9yF5gq_rkIyj5MCLQv1OzgwlLWxu7e=s64",
      "userId": "16665723407518839496"
     },
     "user_tz": -120
    },
    "id": "rlwGOWc_eh7_",
    "outputId": "51c4dca6-d7c6-4061-a4a9-f3ceabc1614f"
   },
   "outputs": [
    {
     "name": "stdout",
     "output_type": "stream",
     "text": [
      "Model: \"sequential\"\n",
      "_________________________________________________________________\n",
      " Layer (type)                Output Shape              Param #   \n",
      "=================================================================\n",
      " conv2d (Conv2D)             (None, 64, 64, 16)        448       \n",
      "                                                                 \n",
      " average_pooling2d (AverageP  (None, 32, 32, 16)       0         \n",
      " ooling2D)                                                       \n",
      "                                                                 \n",
      " conv2d_1 (Conv2D)           (None, 30, 30, 32)        4640      \n",
      "                                                                 \n",
      " average_pooling2d_1 (Averag  (None, 15, 15, 32)       0         \n",
      " ePooling2D)                                                     \n",
      "                                                                 \n",
      " conv2d_2 (Conv2D)           (None, 13, 13, 64)        18496     \n",
      "                                                                 \n",
      " average_pooling2d_2 (Averag  (None, 6, 6, 64)         0         \n",
      " ePooling2D)                                                     \n",
      "                                                                 \n",
      " flatten (Flatten)           (None, 2304)              0         \n",
      "                                                                 \n",
      " dense (Dense)               (None, 128)               295040    \n",
      "                                                                 \n",
      " dense_1 (Dense)             (None, 64)                8256      \n",
      "                                                                 \n",
      " dense_2 (Dense)             (None, 32)                2080      \n",
      "                                                                 \n",
      " dense_3 (Dense)             (None, 10)                330       \n",
      "                                                                 \n",
      "=================================================================\n",
      "Total params: 329,290\n",
      "Trainable params: 329,290\n",
      "Non-trainable params: 0\n",
      "_________________________________________________________________\n"
     ]
    },
    {
     "name": "stderr",
     "output_type": "stream",
     "text": [
      "/opt/conda/lib/python3.8/site-packages/keras/optimizers/optimizer_v2/gradient_descent.py:111: UserWarning: The `lr` argument is deprecated, use `learning_rate` instead.\n",
      "  super().__init__(name, **kwargs)\n"
     ]
    }
   ],
   "source": [
    "kernel_size = 3\n",
    "stride = 1\n",
    "\n",
    "lenet_5_model = Sequential()\n",
    "lenet_5_model.add(Conv2D(16, kernel_size=kernel_size, strides=stride, activation='relu', padding='same', input_shape = (64,64,3)))\n",
    "lenet_5_model.add(AveragePooling2D())\n",
    "lenet_5_model.add(Conv2D(32, kernel_size=kernel_size, strides=stride, activation='relu', padding='valid'))\n",
    "lenet_5_model.add(AveragePooling2D())\n",
    "lenet_5_model.add(Conv2D(64, kernel_size=kernel_size, strides=stride, activation='relu', padding='valid'))\n",
    "lenet_5_model.add(AveragePooling2D())\n",
    "\n",
    "lenet_5_model.add(Flatten())\n",
    "lenet_5_model.add(Dense(128, activation='relu'))\n",
    "lenet_5_model.add(Dense(64, activation='relu'))\n",
    "lenet_5_model.add(Dense(32, activation='relu'))\n",
    "lenet_5_model.add(Dense(10, activation='softmax'))\n",
    "\n",
    "lenet_5_model.compile(optimizer=SGD(lr=0.0002), loss='categorical_crossentropy', metrics=['accuracy'])\n",
    "lenet_5_model.summary()"
   ]
  },
  {
   "cell_type": "markdown",
   "metadata": {
    "id": "CVtG6r_tgRNZ"
   },
   "source": [
    "# Load Dataset"
   ]
  },
  {
   "cell_type": "code",
   "execution_count": 4,
   "metadata": {
    "id": "SFg5fRYtgGZP"
   },
   "outputs": [],
   "source": [
    "from DatasetHandler import DatasetHandler\n",
    "\n",
    "dataset_root = '/home/jovyan/QNN4RadarImage/datasets/EuroSAT/'\n",
    "handler = DatasetHandler(dataset_root)"
   ]
  },
  {
   "cell_type": "code",
   "execution_count": 5,
   "metadata": {
    "colab": {
     "base_uri": "https://localhost:8080/"
    },
    "executionInfo": {
     "elapsed": 9,
     "status": "ok",
     "timestamp": 1628155638282,
     "user": {
      "displayName": "Alessandro Sebastianelli",
      "photoUrl": "https://lh3.googleusercontent.com/a-/AOh14GgVWBLvEG9yF5gq_rkIyj5MCLQv1OzgwlLWxu7e=s64",
      "userId": "16665723407518839496"
     },
     "user_tz": -120
    },
    "id": "GE45_lkUghmE",
    "outputId": "d2335176-7364-47af-c7bf-0c8b5c4132a1"
   },
   "outputs": [
    {
     "name": "stdout",
     "output_type": "stream",
     "text": [
      "Class 0 -> Residential\n",
      "Class 1 -> PermanentCrop\n",
      "Class 2 -> Industrial\n",
      "Class 3 -> AnnualCrop\n",
      "Class 4 -> Highway\n",
      "Class 5 -> Forest\n",
      "Class 6 -> Pasture\n",
      "Class 7 -> SeaLake\n",
      "Class 8 -> HerbaceousVegetation\n",
      "Class 9 -> River\n"
     ]
    }
   ],
   "source": [
    "classes = []\n",
    "for i, c in enumerate(handler.classes):\n",
    "  cl = c.split('/')[-1]\n",
    "  classes.append(cl)\n",
    "  print('Class %d -> %s' % (i, cl))"
   ]
  },
  {
   "cell_type": "code",
   "execution_count": 6,
   "metadata": {
    "colab": {
     "base_uri": "https://localhost:8080/"
    },
    "executionInfo": {
     "elapsed": 47126,
     "status": "ok",
     "timestamp": 1628155685401,
     "user": {
      "displayName": "Alessandro Sebastianelli",
      "photoUrl": "https://lh3.googleusercontent.com/a-/AOh14GgVWBLvEG9yF5gq_rkIyj5MCLQv1OzgwlLWxu7e=s64",
      "userId": "16665723407518839496"
     },
     "user_tz": -120
    },
    "id": "ccYLPDbRhHSc",
    "outputId": "f2087304-7c21-4cf3-c9d8-586775bfdb2a"
   },
   "outputs": [
    {
     "name": "stdout",
     "output_type": "stream",
     "text": [
      "Dataset images: 27000 Dataset labels: 27000\n",
      "Dataset sample -> /home/jovyan/QNN4RadarImage/datasets/EuroSAT/Residential/Residential_1734.jpg 7\n"
     ]
    }
   ],
   "source": [
    "imgs_path, imgs_label = handler.load_paths_labels(dataset_root, classes=classes)\n",
    "print('Dataset images:', len(imgs_path), 'Dataset labels:', len(imgs_label))\n",
    "print('Dataset sample ->', imgs_path[0], imgs_label[0])"
   ]
  },
  {
   "cell_type": "code",
   "execution_count": 7,
   "metadata": {
    "colab": {
     "base_uri": "https://localhost:8080/"
    },
    "executionInfo": {
     "elapsed": 25,
     "status": "ok",
     "timestamp": 1628155685402,
     "user": {
      "displayName": "Alessandro Sebastianelli",
      "photoUrl": "https://lh3.googleusercontent.com/a-/AOh14GgVWBLvEG9yF5gq_rkIyj5MCLQv1OzgwlLWxu7e=s64",
      "userId": "16665723407518839496"
     },
     "user_tz": -120
    },
    "id": "NTPt87hEkUpG",
    "outputId": "3b3ae2ef-14be-45cf-b9d6-7f093425c26c"
   },
   "outputs": [
    {
     "name": "stdout",
     "output_type": "stream",
     "text": [
      "X_train shape: (21600,) Y_train shape: (21600,)\n",
      "  X_val shape:  (5400,)   Y_val shape:  (5400,)\n"
     ]
    }
   ],
   "source": [
    "train_imgs, train_labels, val_images, val_labels = handler.train_validation_split(imgs_path, imgs_label, split_factor=0.2)\n",
    "print('X_train shape:', train_imgs.shape, 'Y_train shape:', train_labels.shape)\n",
    "print('  X_val shape: ', val_images.shape, '  Y_val shape: ', val_labels.shape)"
   ]
  },
  {
   "cell_type": "code",
   "execution_count": 8,
   "metadata": {
    "colab": {
     "base_uri": "https://localhost:8080/"
    },
    "executionInfo": {
     "elapsed": 10611241,
     "status": "ok",
     "timestamp": 1628171306306,
     "user": {
      "displayName": "Alessandro Sebastianelli",
      "photoUrl": "https://lh3.googleusercontent.com/a-/AOh14GgVWBLvEG9yF5gq_rkIyj5MCLQv1OzgwlLWxu7e=s64",
      "userId": "16665723407518839496"
     },
     "user_tz": -120
    },
    "id": "SFlpg12Fkj_3",
    "outputId": "366e9885-c61a-4e15-8a5e-c49d81215781"
   },
   "outputs": [
    {
     "name": "stdout",
     "output_type": "stream",
     "text": [
      "Epoch 1/100\n",
      "21600/21600 [==============================] - 119s 5ms/step - loss: 2.1883 - accuracy: 0.2008 - val_loss: 1.8733 - val_accuracy: 0.2744\n",
      "Epoch 2/100\n",
      "21600/21600 [==============================] - 118s 5ms/step - loss: 1.7642 - accuracy: 0.3309 - val_loss: 1.7300 - val_accuracy: 0.3622\n",
      "Epoch 3/100\n",
      "21600/21600 [==============================] - 118s 5ms/step - loss: 1.6823 - accuracy: 0.3698 - val_loss: 1.7011 - val_accuracy: 0.3731\n",
      "Epoch 4/100\n",
      "21600/21600 [==============================] - 116s 5ms/step - loss: 1.6208 - accuracy: 0.3966 - val_loss: 1.6573 - val_accuracy: 0.3809\n",
      "Epoch 5/100\n",
      "21600/21600 [==============================] - 118s 5ms/step - loss: 1.5368 - accuracy: 0.4347 - val_loss: 1.5442 - val_accuracy: 0.4346\n",
      "Epoch 6/100\n",
      "21600/21600 [==============================] - 118s 5ms/step - loss: 1.4331 - accuracy: 0.4856 - val_loss: 1.4072 - val_accuracy: 0.4993\n",
      "Epoch 7/100\n",
      "21600/21600 [==============================] - 117s 5ms/step - loss: 1.3498 - accuracy: 0.5221 - val_loss: 1.3137 - val_accuracy: 0.5444\n",
      "Epoch 8/100\n",
      "21600/21600 [==============================] - 118s 5ms/step - loss: 1.2894 - accuracy: 0.5397 - val_loss: 1.2424 - val_accuracy: 0.5639\n",
      "Epoch 9/100\n",
      "21600/21600 [==============================] - 118s 5ms/step - loss: 1.2508 - accuracy: 0.5516 - val_loss: 1.2612 - val_accuracy: 0.5426\n",
      "Epoch 10/100\n",
      "21600/21600 [==============================] - 114s 5ms/step - loss: 1.2135 - accuracy: 0.5619 - val_loss: 1.2179 - val_accuracy: 0.5635\n",
      "Epoch 11/100\n",
      "21600/21600 [==============================] - 113s 5ms/step - loss: 1.1729 - accuracy: 0.5768 - val_loss: 1.2323 - val_accuracy: 0.5709\n",
      "Epoch 12/100\n",
      "21600/21600 [==============================] - 112s 5ms/step - loss: 1.1451 - accuracy: 0.5884 - val_loss: 1.1610 - val_accuracy: 0.5904\n",
      "Epoch 13/100\n",
      "21600/21600 [==============================] - 112s 5ms/step - loss: 1.1070 - accuracy: 0.6018 - val_loss: 1.0890 - val_accuracy: 0.6183\n",
      "Epoch 14/100\n",
      "21600/21600 [==============================] - 113s 5ms/step - loss: 1.0695 - accuracy: 0.6164 - val_loss: 1.1444 - val_accuracy: 0.6178\n",
      "Epoch 15/100\n",
      "21600/21600 [==============================] - 112s 5ms/step - loss: 1.0102 - accuracy: 0.6389 - val_loss: 1.0048 - val_accuracy: 0.6448\n",
      "Epoch 16/100\n",
      "21600/21600 [==============================] - 116s 5ms/step - loss: 0.9611 - accuracy: 0.6531 - val_loss: 0.9659 - val_accuracy: 0.6652\n",
      "Epoch 17/100\n",
      "21600/21600 [==============================] - 119s 5ms/step - loss: 0.9212 - accuracy: 0.6721 - val_loss: 0.8710 - val_accuracy: 0.6998\n",
      "Epoch 18/100\n",
      "21600/21600 [==============================] - 117s 5ms/step - loss: 0.8616 - accuracy: 0.6878 - val_loss: 0.9211 - val_accuracy: 0.6685\n",
      "Epoch 19/100\n",
      "21600/21600 [==============================] - 118s 5ms/step - loss: 0.8202 - accuracy: 0.7026 - val_loss: 0.7792 - val_accuracy: 0.7196\n",
      "Epoch 20/100\n",
      "21600/21600 [==============================] - 117s 5ms/step - loss: 0.7918 - accuracy: 0.7125 - val_loss: 0.7936 - val_accuracy: 0.7096\n",
      "Epoch 21/100\n",
      "21600/21600 [==============================] - 118s 5ms/step - loss: 0.7553 - accuracy: 0.7264 - val_loss: 0.7565 - val_accuracy: 0.7244\n",
      "Epoch 22/100\n",
      "21600/21600 [==============================] - 117s 5ms/step - loss: 0.7342 - accuracy: 0.7301 - val_loss: 0.7630 - val_accuracy: 0.7200\n",
      "Epoch 23/100\n",
      "21600/21600 [==============================] - 114s 5ms/step - loss: 0.6967 - accuracy: 0.7459 - val_loss: 0.7613 - val_accuracy: 0.7326\n",
      "Epoch 24/100\n",
      "21600/21600 [==============================] - 116s 5ms/step - loss: 0.6967 - accuracy: 0.7479 - val_loss: 0.7561 - val_accuracy: 0.7269\n",
      "Epoch 25/100\n",
      "21600/21600 [==============================] - 120s 6ms/step - loss: 0.6773 - accuracy: 0.7512 - val_loss: 0.7510 - val_accuracy: 0.7252\n",
      "Epoch 26/100\n",
      "21600/21600 [==============================] - 114s 5ms/step - loss: 0.6534 - accuracy: 0.7630 - val_loss: 0.7021 - val_accuracy: 0.7509\n",
      "Epoch 27/100\n",
      "21600/21600 [==============================] - 112s 5ms/step - loss: 0.6254 - accuracy: 0.7758 - val_loss: 0.6741 - val_accuracy: 0.7609\n",
      "Epoch 28/100\n",
      "21600/21600 [==============================] - 116s 5ms/step - loss: 0.6174 - accuracy: 0.7779 - val_loss: 0.6692 - val_accuracy: 0.7631\n",
      "Epoch 29/100\n",
      "21600/21600 [==============================] - 119s 6ms/step - loss: 0.5947 - accuracy: 0.7839 - val_loss: 0.8409 - val_accuracy: 0.7015\n",
      "Epoch 30/100\n",
      "21600/21600 [==============================] - 117s 5ms/step - loss: 0.5843 - accuracy: 0.7869 - val_loss: 0.6338 - val_accuracy: 0.7854\n",
      "Epoch 31/100\n",
      "21600/21600 [==============================] - 120s 6ms/step - loss: 0.5670 - accuracy: 0.7947 - val_loss: 0.6258 - val_accuracy: 0.7811\n",
      "Epoch 32/100\n",
      "21600/21600 [==============================] - 121s 6ms/step - loss: 0.5567 - accuracy: 0.7979 - val_loss: 0.6535 - val_accuracy: 0.7761\n",
      "Epoch 33/100\n",
      "21600/21600 [==============================] - 117s 5ms/step - loss: 0.5431 - accuracy: 0.8046 - val_loss: 0.6575 - val_accuracy: 0.7830\n",
      "Epoch 34/100\n",
      "21600/21600 [==============================] - 121s 6ms/step - loss: 0.5188 - accuracy: 0.8135 - val_loss: 0.6648 - val_accuracy: 0.7744\n",
      "Epoch 35/100\n",
      "21600/21600 [==============================] - 120s 6ms/step - loss: 0.5041 - accuracy: 0.8176 - val_loss: 0.5996 - val_accuracy: 0.7978\n",
      "Epoch 36/100\n",
      "21600/21600 [==============================] - 118s 5ms/step - loss: 0.5083 - accuracy: 0.8156 - val_loss: 0.6645 - val_accuracy: 0.7637\n",
      "Epoch 37/100\n",
      "21600/21600 [==============================] - 117s 5ms/step - loss: 0.4938 - accuracy: 0.8242 - val_loss: 0.5554 - val_accuracy: 0.8119\n",
      "Epoch 38/100\n",
      "21600/21600 [==============================] - 120s 6ms/step - loss: 0.4806 - accuracy: 0.8250 - val_loss: 0.5723 - val_accuracy: 0.7965\n",
      "Epoch 39/100\n",
      "21600/21600 [==============================] - 118s 5ms/step - loss: 0.4698 - accuracy: 0.8339 - val_loss: 0.5520 - val_accuracy: 0.8070\n",
      "Epoch 40/100\n",
      "21600/21600 [==============================] - 120s 6ms/step - loss: 0.4494 - accuracy: 0.8364 - val_loss: 0.5560 - val_accuracy: 0.8094\n",
      "Epoch 41/100\n",
      "21600/21600 [==============================] - 122s 6ms/step - loss: 0.4426 - accuracy: 0.8426 - val_loss: 0.6181 - val_accuracy: 0.7880\n",
      "Epoch 42/100\n",
      "21600/21600 [==============================] - 127s 6ms/step - loss: 0.4242 - accuracy: 0.8485 - val_loss: 0.5953 - val_accuracy: 0.7993\n",
      "Epoch 43/100\n",
      "21600/21600 [==============================] - 143s 7ms/step - loss: 0.4265 - accuracy: 0.8477 - val_loss: 0.5632 - val_accuracy: 0.8096\n",
      "Epoch 44/100\n",
      "21600/21600 [==============================] - 117s 5ms/step - loss: 0.4089 - accuracy: 0.8532 - val_loss: 0.5600 - val_accuracy: 0.8139\n",
      "Epoch 45/100\n",
      "21600/21600 [==============================] - 117s 5ms/step - loss: 0.4064 - accuracy: 0.8554 - val_loss: 0.5596 - val_accuracy: 0.8181\n",
      "Epoch 46/100\n",
      "21600/21600 [==============================] - 116s 5ms/step - loss: 0.3898 - accuracy: 0.8625 - val_loss: 0.5470 - val_accuracy: 0.8128\n",
      "Epoch 47/100\n",
      "21600/21600 [==============================] - 116s 5ms/step - loss: 0.3871 - accuracy: 0.8609 - val_loss: 0.6090 - val_accuracy: 0.7959\n",
      "Epoch 48/100\n",
      "21600/21600 [==============================] - 116s 5ms/step - loss: 0.3681 - accuracy: 0.8685 - val_loss: 0.5257 - val_accuracy: 0.8231\n",
      "Epoch 49/100\n",
      "21600/21600 [==============================] - 125s 6ms/step - loss: 0.3624 - accuracy: 0.8706 - val_loss: 0.6049 - val_accuracy: 0.7939\n",
      "Epoch 50/100\n",
      "21600/21600 [==============================] - 116s 5ms/step - loss: 0.3429 - accuracy: 0.8776 - val_loss: 0.5775 - val_accuracy: 0.8124\n",
      "Epoch 51/100\n",
      "21600/21600 [==============================] - 116s 5ms/step - loss: 0.3403 - accuracy: 0.8769 - val_loss: 0.6283 - val_accuracy: 0.7996\n",
      "Epoch 52/100\n",
      "21600/21600 [==============================] - 118s 5ms/step - loss: 0.3331 - accuracy: 0.8831 - val_loss: 0.5457 - val_accuracy: 0.8185\n",
      "Epoch 53/100\n",
      "21600/21600 [==============================] - 118s 5ms/step - loss: 0.3194 - accuracy: 0.8864 - val_loss: 0.5995 - val_accuracy: 0.8104\n",
      "Epoch 54/100\n",
      "21600/21600 [==============================] - 120s 6ms/step - loss: 0.3106 - accuracy: 0.8892 - val_loss: 0.5538 - val_accuracy: 0.8170\n",
      "Epoch 55/100\n",
      "21600/21600 [==============================] - 117s 5ms/step - loss: 0.2994 - accuracy: 0.8926 - val_loss: 0.5761 - val_accuracy: 0.8165\n",
      "Epoch 56/100\n",
      "21600/21600 [==============================] - 118s 5ms/step - loss: 0.2964 - accuracy: 0.8949 - val_loss: 0.5675 - val_accuracy: 0.8141\n",
      "Epoch 57/100\n",
      "21600/21600 [==============================] - 115s 5ms/step - loss: 0.2835 - accuracy: 0.9001 - val_loss: 0.8475 - val_accuracy: 0.7548\n",
      "Epoch 58/100\n",
      "21600/21600 [==============================] - 118s 5ms/step - loss: 0.2655 - accuracy: 0.9058 - val_loss: 0.6360 - val_accuracy: 0.8072\n",
      "Epoch 59/100\n",
      "21600/21600 [==============================] - 116s 5ms/step - loss: 0.2606 - accuracy: 0.9053 - val_loss: 0.5688 - val_accuracy: 0.8252\n",
      "Epoch 60/100\n",
      "21600/21600 [==============================] - 115s 5ms/step - loss: 0.2609 - accuracy: 0.9085 - val_loss: 0.5598 - val_accuracy: 0.8307\n",
      "Epoch 61/100\n",
      "21600/21600 [==============================] - 116s 5ms/step - loss: 0.2493 - accuracy: 0.9112 - val_loss: 0.6027 - val_accuracy: 0.8248\n",
      "Epoch 62/100\n",
      "21600/21600 [==============================] - 117s 5ms/step - loss: 0.2394 - accuracy: 0.9171 - val_loss: 0.6364 - val_accuracy: 0.8181\n",
      "Epoch 63/100\n",
      "21600/21600 [==============================] - 118s 5ms/step - loss: 0.2438 - accuracy: 0.9157 - val_loss: 0.6828 - val_accuracy: 0.8057\n"
     ]
    }
   ],
   "source": [
    "batch_size = 1\n",
    "epochs = 100\n",
    "\n",
    "train_gen = handler.cnn_data_loader(train_imgs, train_labels, batch_size=batch_size, img_shape=(64,64,3), n_classes=10)\n",
    "val_gen = handler.cnn_data_loader(val_images, val_labels, batch_size=batch_size, img_shape=(64,64,3), n_classes=10)\n",
    "\n",
    "\n",
    "es = EarlyStopping(monitor='val_loss', min_delta=0, patience=15, verbose=0, mode='auto', baseline=None, restore_best_weights=False)\n",
    "\n",
    "history = lenet_5_model.fit(train_gen,\n",
    "                            steps_per_epoch = len(train_labels)//batch_size,\n",
    "                            epochs = epochs,\n",
    "                            validation_data = val_gen,\n",
    "                            validation_steps = len(val_labels)//batch_size,\n",
    "                            callbacks = [es])"
   ]
  },
  {
   "cell_type": "code",
   "execution_count": 9,
   "metadata": {
    "executionInfo": {
     "elapsed": 7,
     "status": "ok",
     "timestamp": 1628171338167,
     "user": {
      "displayName": "Alessandro Sebastianelli",
      "photoUrl": "https://lh3.googleusercontent.com/a-/AOh14GgVWBLvEG9yF5gq_rkIyj5MCLQv1OzgwlLWxu7e=s64",
      "userId": "16665723407518839496"
     },
     "user_tz": -120
    },
    "id": "-1Q90w4W81o9"
   },
   "outputs": [],
   "source": [
    "lenet_5_model.save('/home/jovyan/QNN4RadarImage/JSTARS2021/classical_classifiers/saved_models_new/lenet5-v2.h5')"
   ]
  },
  {
   "cell_type": "code",
   "execution_count": 11,
   "metadata": {
    "executionInfo": {
     "elapsed": 181653,
     "status": "ok",
     "timestamp": 1628172816090,
     "user": {
      "displayName": "Alessandro Sebastianelli",
      "photoUrl": "https://lh3.googleusercontent.com/a-/AOh14GgVWBLvEG9yF5gq_rkIyj5MCLQv1OzgwlLWxu7e=s64",
      "userId": "16665723407518839496"
     },
     "user_tz": -120
    },
    "id": "H8lB_ntKsevu"
   },
   "outputs": [
    {
     "name": "stdout",
     "output_type": "stream",
     "text": [
      "Predicting validation images: 100 / 5400\n",
      "Predicting validation images: 200 / 5400\n",
      "Predicting validation images: 300 / 5400\n",
      "Predicting validation images: 400 / 5400\n",
      "Predicting validation images: 500 / 5400\n",
      "Predicting validation images: 600 / 5400\n",
      "Predicting validation images: 700 / 5400\n",
      "Predicting validation images: 800 / 5400\n",
      "Predicting validation images: 900 / 5400\n",
      "Predicting validation images: 1000 / 5400\n",
      "Predicting validation images: 1100 / 5400\n",
      "Predicting validation images: 1200 / 5400\n",
      "Predicting validation images: 1300 / 5400\n",
      "Predicting validation images: 1400 / 5400\n",
      "Predicting validation images: 1500 / 5400\n",
      "Predicting validation images: 1600 / 5400\n",
      "Predicting validation images: 1700 / 5400\n",
      "Predicting validation images: 1800 / 5400\n",
      "Predicting validation images: 1900 / 5400\n",
      "Predicting validation images: 2000 / 5400\n",
      "Predicting validation images: 2100 / 5400\n",
      "Predicting validation images: 2200 / 5400\n",
      "Predicting validation images: 2300 / 5400\n",
      "Predicting validation images: 2400 / 5400\n",
      "Predicting validation images: 2500 / 5400\n",
      "Predicting validation images: 2600 / 5400\n",
      "Predicting validation images: 2700 / 5400\n",
      "Predicting validation images: 2800 / 5400\n",
      "Predicting validation images: 2900 / 5400\n",
      "Predicting validation images: 3000 / 5400\n",
      "Predicting validation images: 3100 / 5400\n",
      "Predicting validation images: 3200 / 5400\n",
      "Predicting validation images: 3300 / 5400\n",
      "Predicting validation images: 3400 / 5400\n",
      "Predicting validation images: 3500 / 5400\n",
      "Predicting validation images: 3600 / 5400\n",
      "Predicting validation images: 3700 / 5400\n",
      "Predicting validation images: 3800 / 5400\n",
      "Predicting validation images: 3900 / 5400\n",
      "Predicting validation images: 4000 / 5400\n",
      "Predicting validation images: 4100 / 5400\n",
      "Predicting validation images: 4200 / 5400\n",
      "Predicting validation images: 4300 / 5400\n",
      "Predicting validation images: 4400 / 5400\n",
      "Predicting validation images: 4500 / 5400\n",
      "Predicting validation images: 4600 / 5400\n",
      "Predicting validation images: 4700 / 5400\n",
      "Predicting validation images: 4800 / 5400\n",
      "Predicting validation images: 4900 / 5400\n",
      "Predicting validation images: 5000 / 5400\n",
      "Predicting validation images: 5100 / 5400\n",
      "Predicting validation images: 5200 / 5400\n",
      "Predicting validation images: 5300 / 5400\n",
      "Predicting validation images: 5400 / 5400\n"
     ]
    }
   ],
   "source": [
    "import numpy as np\n",
    "val_gen = iter(handler.cnn_data_loader(val_images, val_labels, batch_size=batch_size, img_shape=(64,64,3), n_classes=10))\n",
    "\n",
    "\n",
    "predictions = []\n",
    "targets = []\n",
    "\n",
    "count = 0\n",
    "\n",
    "for ct in range(len(val_images)):\n",
    "    \n",
    "    count = count + 1\n",
    "    if count % 100 == 0:\n",
    "        print('Predicting validation images: ' + str(count) + ' / ' + str(val_images.shape[0]))\n",
    "    \n",
    "    data, target = next(val_gen)\n",
    "    output = lenet_5_model.predict(data, verbose = 0)\n",
    "    \n",
    "    predictions.append(np.argmax(output))\n",
    "    targets.append(np.argmax(target))\n",
    "  "
   ]
  },
  {
   "cell_type": "code",
   "execution_count": 12,
   "metadata": {
    "executionInfo": {
     "elapsed": 15,
     "status": "ok",
     "timestamp": 1628172816094,
     "user": {
      "displayName": "Alessandro Sebastianelli",
      "photoUrl": "https://lh3.googleusercontent.com/a-/AOh14GgVWBLvEG9yF5gq_rkIyj5MCLQv1OzgwlLWxu7e=s64",
      "userId": "16665723407518839496"
     },
     "user_tz": -120
    },
    "id": "EPNdhW-4sgdK"
   },
   "outputs": [],
   "source": [
    "from sklearn.metrics import confusion_matrix, ConfusionMatrixDisplay, classification_report\n",
    "cm = confusion_matrix(predictions, targets, normalize='true')"
   ]
  },
  {
   "cell_type": "code",
   "execution_count": 13,
   "metadata": {
    "colab": {
     "base_uri": "https://localhost:8080/",
     "height": 1000
    },
    "executionInfo": {
     "elapsed": 1096,
     "status": "ok",
     "timestamp": 1628172817180,
     "user": {
      "displayName": "Alessandro Sebastianelli",
      "photoUrl": "https://lh3.googleusercontent.com/a-/AOh14GgVWBLvEG9yF5gq_rkIyj5MCLQv1OzgwlLWxu7e=s64",
      "userId": "16665723407518839496"
     },
     "user_tz": -120
    },
    "id": "LKK65BshKLKD",
    "outputId": "a2e2dad0-8e73-495b-b42e-67de3f03a574"
   },
   "outputs": [
    {
     "name": "stdout",
     "output_type": "stream",
     "text": [
      "S2\n",
      "Accuracy: [0.77669903 0.9582505  0.79334501 0.7400722  0.92989691 0.77562327\n",
      " 0.54448871 0.92982456 0.73891626 0.87136294] mean:  0.8058479382637479\n",
      "                      precision    recall  f1-score   support\n",
      "\n",
      "         Residential     0.7767    0.7869    0.7818       610\n",
      "       PermanentCrop     0.9583    0.8087    0.8772       596\n",
      "          Industrial     0.7933    0.7512    0.7717       603\n",
      "          AnnualCrop     0.7401    0.4262    0.5409       481\n",
      "             Highway     0.9299    0.8757    0.9020       515\n",
      "              Forest     0.7756    0.7349    0.7547       381\n",
      "             Pasture     0.5445    0.8524    0.6645       481\n",
      "             SeaLake     0.9298    0.8968    0.9130       591\n",
      "HerbaceousVegetation     0.7389    0.8182    0.7765       550\n",
      "               River     0.8714    0.9611    0.9141       592\n",
      "\n",
      "            accuracy                         0.7981      5400\n",
      "           macro avg     0.8058    0.7912    0.7896      5400\n",
      "        weighted avg     0.8125    0.7981    0.7972      5400\n",
      "\n"
     ]
    },
    {
     "data": {
      "image/png": "[encoded data removed]",
      "text/plain": [
       "<Figure size 864x720 with 2 Axes>"
      ]
     },
     "metadata": {
      "needs_background": "light"
     },
     "output_type": "display_data"
    }
   ],
   "source": [
    "import matplotlib.pyplot as plt\n",
    "fig, axes = plt.subplots(nrows = 1, ncols = 1, figsize = (12,10))\n",
    "\n",
    "cmd = ConfusionMatrixDisplay(cm, display_labels=classes)\n",
    "cmd.plot(ax=axes, cmap='Blues', xticks_rotation='vertical')\n",
    "print('S2')\n",
    "print('Accuracy:', cm.diagonal(), 'mean: ', cm.diagonal().mean())\n",
    "print(classification_report(targets, predictions, target_names=classes, digits=4))\n",
    "axes.get_images()[0].set_clim(0, 1)\n",
    "plt.show()\n",
    "plt.close()"
   ]
  },
  {
   "cell_type": "code",
   "execution_count": null,
   "metadata": {
    "id": "o4SRfmVO5DkR"
   },
   "outputs": [],
   "source": []
  }
 ],
 "metadata": {
  "accelerator": "GPU",
  "colab": {
   "authorship_tag": "ABX9TyNGw9lBlgx8W7MNoh+B2DR/",
   "collapsed_sections": [],
   "mount_file_id": "1cdJOGjxLormZ6vK2bhc9C2mrYPCi0uHG",
   "name": "CNN-v2.ipynb",
   "provenance": []
  },
  "kernelspec": {
   "display_name": "Python 3",
   "language": "python",
   "name": "python3"
  },
  "language_info": {
   "codemirror_mode": {
    "name": "ipython",
    "version": 3
   },
   "file_extension": ".py",
   "mimetype": "text/x-python",
   "name": "python",
   "nbconvert_exporter": "python",
   "pygments_lexer": "ipython3",
   "version": "3.8.10"
  }
 },
 "nbformat": 4,
 "nbformat_minor": 4
}
