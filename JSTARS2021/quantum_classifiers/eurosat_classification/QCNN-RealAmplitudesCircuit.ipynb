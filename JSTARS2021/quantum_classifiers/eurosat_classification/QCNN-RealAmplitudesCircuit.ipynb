{
 "cells": [
  {
   "cell_type": "code",
   "execution_count": null,
   "metadata": {
    "colab": {
     "base_uri": "https://localhost:8080/"
    },
    "executionInfo": {
     "elapsed": 28688,
     "status": "ok",
     "timestamp": 1627890517544,
     "user": {
      "displayName": "Alessandro Sebastianelli",
      "photoUrl": "https://lh3.googleusercontent.com/a-/AOh14GgVWBLvEG9yF5gq_rkIyj5MCLQv1OzgwlLWxu7e=s64",
      "userId": "16665723407518839496"
     },
     "user_tz": -120
    },
    "id": "uc2xlyNfycy6",
    "outputId": "c6fabb32-9622-479d-ec55-4b3bdcdefcb1"
   },
   "outputs": [],
   "source": [
    "!pip uninstall qiskit\n",
    "!pip install numpy==0.19.5\n",
    "!pip install qiskit==0.24\n",
    "#!pip install git+https://github.com/qiskit-community/qiskit-textbook.git#subdirectory=qiskit-textbook-src\n",
    "!pip install pylatexenc"
   ]
  },
  {
   "cell_type": "code",
   "execution_count": 1,
   "metadata": {},
   "outputs": [
    {
     "name": "stderr",
     "output_type": "stream",
     "text": [
      "configrc.store_credentials:WARNING:2022-09-05 09:01:31,870: Credentials already present. Set overwrite=True to overwrite.\n"
     ]
    },
    {
     "name": "stdout",
     "output_type": "stream",
     "text": [
      "<AccountProvider for IBMQ(hub='ibm-q', group='open', project='main')> ibmq_qasm_simulator\n"
     ]
    }
   ],
   "source": [
    "import qiskit\n",
    "token = '3c648969b4c49d2521944ea0c52d2466348ca185619f2d642d3d12fc3caeb0118c0ac3724f078a784a4e81192decacad79a85d7503a27324ca880e00b2b61662'\n",
    "qiskit.IBMQ.save_account(token)\n",
    "account = qiskit.IBMQ.load_account()\n",
    "provider = qiskit.IBMQ.get_provider(hub='ibm-q')\n",
    "backend = provider.get_backend('ibmq_qasm_simulator')\n",
    "print(provider, backend)"
   ]
  },
  {
   "cell_type": "code",
   "execution_count": 2,
   "metadata": {
    "colab": {
     "base_uri": "https://localhost:8080/"
    },
    "executionInfo": {
     "elapsed": 511,
     "status": "ok",
     "timestamp": 1627890536973,
     "user": {
      "displayName": "Alessandro Sebastianelli",
      "photoUrl": "https://lh3.googleusercontent.com/a-/AOh14GgVWBLvEG9yF5gq_rkIyj5MCLQv1OzgwlLWxu7e=s64",
      "userId": "16665723407518839496"
     },
     "user_tz": -120
    },
    "id": "mXsPVL2Qyt4G",
    "outputId": "2a08975a-3887-4a83-909e-73e1f3ec9cd0"
   },
   "outputs": [
    {
     "name": "stdout",
     "output_type": "stream",
     "text": [
      "Running on the GPU\n"
     ]
    }
   ],
   "source": [
    "from qiskit import execute\n",
    "from qiskit.circuit import Parameter,ControlledGate\n",
    "from qiskit import Aer\n",
    "import qiskit\n",
    "import numpy as np\n",
    "from tqdm import tqdm\n",
    "from matplotlib import pyplot as plt\n",
    "%matplotlib inline\n",
    "import torch\n",
    "from torch.autograd import Function\n",
    "import torch.optim as optim\n",
    "import torch.nn as nn\n",
    "import torch.nn.functional as F\n",
    "\n",
    "\n",
    "if torch.cuda.is_available():\n",
    "  device = torch.device(\"cuda:0\")\n",
    "  print(\"Running on the GPU\")\n",
    "else:\n",
    "  device = torch.device(\"cpu\")\n",
    "  print(\"Running on the CPU\")"
   ]
  },
  {
   "cell_type": "code",
   "execution_count": 3,
   "metadata": {
    "executionInfo": {
     "elapsed": 7,
     "status": "ok",
     "timestamp": 1627890536974,
     "user": {
      "displayName": "Alessandro Sebastianelli",
      "photoUrl": "https://lh3.googleusercontent.com/a-/AOh14GgVWBLvEG9yF5gq_rkIyj5MCLQv1OzgwlLWxu7e=s64",
      "userId": "16665723407518839496"
     },
     "user_tz": -120
    },
    "id": "GLM7EOjvzYNa"
   },
   "outputs": [],
   "source": [
    "#np.random.seed = 314\n",
    "\n",
    "NUM_QUBITS = 4\n",
    "NUM_SHOTS = 800 #3000\n",
    "SHIFT = np.pi/4\n",
    "LEARNING_RATE = 0.0002\n",
    "MOMENTUM = 0.5\n",
    "\n",
    "try:\n",
    "    SIMULATOR = Aer.get_backend('qasm_simulator')\n",
    "except:\n",
    "    \n",
    "    print(\"QiskitBackendNotFoundError: 'No backend matches the criteria'\")\n",
    "    \n",
    "    available_cloud_backends = account.backends() \n",
    "    print('\\nHere is the list of cloud backends that are available to you:')\n",
    "    for i in available_cloud_backends: print(i)\n",
    "\n",
    "    available_local_backends = Aer.backends() \n",
    "    print('\\nHere is the list of local backends that are available to you: ')\n",
    "    for i in available_local_backends: print(i)"
   ]
  },
  {
   "cell_type": "code",
   "execution_count": 4,
   "metadata": {
    "colab": {
     "base_uri": "https://localhost:8080/"
    },
    "executionInfo": {
     "elapsed": 7,
     "status": "ok",
     "timestamp": 1627890536975,
     "user": {
      "displayName": "Alessandro Sebastianelli",
      "photoUrl": "https://lh3.googleusercontent.com/a-/AOh14GgVWBLvEG9yF5gq_rkIyj5MCLQv1OzgwlLWxu7e=s64",
      "userId": "16665723407518839496"
     },
     "user_tz": -120
    },
    "id": "EjFSm0lgzbW2",
    "outputId": "7d49be7c-ee30-4a64-c534-f05cece34e1e"
   },
   "outputs": [
    {
     "name": "stdout",
     "output_type": "stream",
     "text": [
      "['0000', '0001', '0010', '0011', '0100', '0101', '0110', '0111', '1000', '1001', '1010', '1011', '1100', '1101', '1110', '1111']\n"
     ]
    }
   ],
   "source": [
    "# create list of all possible outputs of quantum circuit (2**NUM_QUBITS possible)\n",
    "import itertools\n",
    "def create_QC_OUTPUTS():\n",
    "    measurements = list(itertools.product([0, 1], repeat=NUM_QUBITS))\n",
    "    return [''.join([str(bit) for bit in measurement]) for measurement in measurements]\n",
    "\n",
    "QC_OUTPUTS = create_QC_OUTPUTS()\n",
    "print(QC_OUTPUTS)"
   ]
  },
  {
   "cell_type": "markdown",
   "metadata": {
    "id": "5MjzswxFOf5A"
   },
   "source": [
    "# Circuit"
   ]
  },
  {
   "cell_type": "code",
   "execution_count": 5,
   "metadata": {
    "executionInfo": {
     "elapsed": 3,
     "status": "ok",
     "timestamp": 1627890537298,
     "user": {
      "displayName": "Alessandro Sebastianelli",
      "photoUrl": "https://lh3.googleusercontent.com/a-/AOh14GgVWBLvEG9yF5gq_rkIyj5MCLQv1OzgwlLWxu7e=s64",
      "userId": "16665723407518839496"
     },
     "user_tz": -120
    },
    "id": "MKJrEyNCzdX_"
   },
   "outputs": [],
   "source": [
    "class QiskitCircuit():\n",
    "    \n",
    "    def __init__(self, n_qubits, backend, shots):\n",
    "        # --- Circuit definition ---\n",
    "        self.circuit = qiskit.QuantumCircuit(n_qubits)\n",
    "        self.n_qubits = n_qubits\n",
    "        self.thetas = {k : Parameter('Theta'+str(k))for k in range(2*self.n_qubits)}\n",
    "        \n",
    "        all_qubits = [i for i in range(n_qubits)]\n",
    "        self.circuit.h(all_qubits)\n",
    "        self.circuit.barrier()\n",
    "\n",
    "        #self.circuit.h(0)\n",
    "\n",
    "        for k in range(0, 4):\n",
    "          self.circuit.ry(self.thetas[k], k)\n",
    "\n",
    "        self.circuit.cx(1, 0)\n",
    "        self.circuit.cx(2, 0)\n",
    "        self.circuit.cx(3, 0)\n",
    "        self.circuit.cx(2, 1)\n",
    "        self.circuit.cx(3, 1)\n",
    "        self.circuit.cx(3, 2)\n",
    "\n",
    "        for k in range(0, 4):\n",
    "          self.circuit.ry(self.thetas[k+4], k)\n",
    "\n",
    "        self.circuit.measure_all()\n",
    "        # ---------------------------\n",
    "        \n",
    "        self.backend = backend\n",
    "        self.shots = shots\n",
    "        \n",
    "        \n",
    "    def N_qubit_expectation_Z(self,counts, shots, nr_qubits):\n",
    "        expects = np.zeros(len(QC_OUTPUTS))\n",
    "        for k in range(len(QC_OUTPUTS)):\n",
    "            key = QC_OUTPUTS[k]\n",
    "            perc = counts.get(key, 0)/shots\n",
    "            expects[k] = perc\n",
    "        return expects\n",
    "    \n",
    "    def run(self, i):\n",
    "        params = i\n",
    "        #print('params = {}'.format(len(params)))\n",
    "        backend = Aer.get_backend('qasm_simulator')\n",
    "    \n",
    "        job_sim = execute(self.circuit,\n",
    "                              self.backend,\n",
    "                              shots=self.shots,\n",
    "                              parameter_binds = [{self.thetas[k] : params[k].item() for k in range(2*NUM_QUBITS)}])\n",
    "#         \n",
    "        result_sim = job_sim.result()\n",
    "        counts = result_sim.get_counts(self.circuit)\n",
    "        return self.N_qubit_expectation_Z(counts, self.shots, NUM_QUBITS)"
   ]
  },
  {
   "cell_type": "code",
   "execution_count": 6,
   "metadata": {
    "colab": {
     "base_uri": "https://localhost:8080/",
     "height": 276
    },
    "executionInfo": {
     "elapsed": 521,
     "status": "ok",
     "timestamp": 1627890538180,
     "user": {
      "displayName": "Alessandro Sebastianelli",
      "photoUrl": "https://lh3.googleusercontent.com/a-/AOh14GgVWBLvEG9yF5gq_rkIyj5MCLQv1OzgwlLWxu7e=s64",
      "userId": "16665723407518839496"
     },
     "user_tz": -120
    },
    "id": "Afi3vEahKBVU",
    "outputId": "41c2d312-8da0-4b67-9233-a0b27eeccd1e"
   },
   "outputs": [
    {
     "name": "stderr",
     "output_type": "stream",
     "text": [
      "/opt/conda/lib/python3.8/site-packages/qiskit/circuit/tools/pi_check.py:49: SymPyDeprecationWarning: \n",
      "\n",
      "The expr_free_symbols property is deprecated. Use free_symbols to get\n",
      "the free symbols of an expression.\n",
      "\n",
      "See https://docs.sympy.org/latest/explanation/active-deprecations.html#deprecated-expr-free-symbols\n",
      "for details.\n",
      "\n",
      "This has been deprecated since SymPy version 1.9. It\n",
      "will be removed in a future version of SymPy.\n",
      "\n",
      "  syms = inpt._symbol_expr.expr_free_symbols\n"
     ]
    },
    {
     "data": {
      "image/png": "[encoded data removed]",
      "text/plain": [
       "<Figure size 1019.88x325.08 with 1 Axes>"
      ]
     },
     "execution_count": 6,
     "metadata": {},
     "output_type": "execute_result"
    },
    {
     "data": {
      "image/png": "[encoded data removed]",
      "text/plain": [
       "<Figure size 1019.88x325.08 with 1 Axes>"
      ]
     },
     "metadata": {},
     "output_type": "display_data"
    }
   ],
   "source": [
    "circuit = QiskitCircuit(NUM_QUBITS, SIMULATOR, NUM_SHOTS)\n",
    "#print('Expected value for rotation [pi/4]: {}'.format(circuit.run(torch.Tensor([np.pi/4]*NUM_QUBITS))))\n",
    "circuit.circuit.draw(output='mpl')#, filename='Figures/{}-qubit circuit ryN.jpg'.format(NUM_QUBITS)"
   ]
  },
  {
   "cell_type": "code",
   "execution_count": 7,
   "metadata": {
    "executionInfo": {
     "elapsed": 7,
     "status": "ok",
     "timestamp": 1627890538181,
     "user": {
      "displayName": "Alessandro Sebastianelli",
      "photoUrl": "https://lh3.googleusercontent.com/a-/AOh14GgVWBLvEG9yF5gq_rkIyj5MCLQv1OzgwlLWxu7e=s64",
      "userId": "16665723407518839496"
     },
     "user_tz": -120
    },
    "id": "_zDbKVw5zhWo"
   },
   "outputs": [],
   "source": [
    "class TorchCircuit(Function):    \n",
    "\n",
    "    @staticmethod\n",
    "    def forward(ctx, i):\n",
    "        if not hasattr(ctx, 'QiskitCirc'):\n",
    "            ctx.QiskitCirc = QiskitCircuit(NUM_QUBITS, SIMULATOR, shots=NUM_SHOTS)\n",
    "            \n",
    "        exp_value = ctx.QiskitCirc.run(i)\n",
    "        \n",
    "        result = torch.tensor([exp_value], device = device)\n",
    "  \n",
    "        ctx.save_for_backward(result, i)\n",
    "        \n",
    "        return result\n",
    "    \n",
    "    @staticmethod\n",
    "    def backward(ctx, grad_output):\n",
    "        \n",
    "        forward_tensor, i = ctx.saved_tensors\n",
    "#         print('forward_tensor = {}'.format(forward_tensor))\n",
    "        input_numbers = i\n",
    "#         print('input_numbers = {}'.format(input_numbers))\n",
    "        gradients = torch.Tensor().to(device)\n",
    "        \n",
    "        for k in range(2*NUM_QUBITS):\n",
    "            shift_right = input_numbers.detach().clone()\n",
    "            shift_right[k] = shift_right[k] + SHIFT\n",
    "            shift_left = input_numbers.detach().clone()\n",
    "            shift_left[k] = shift_left[k] - SHIFT\n",
    "            \n",
    "#             print('shift_right = {}, shift_left = {}'.format(shift_right, shift_left))\n",
    "            \n",
    "            expectation_right = ctx.QiskitCirc.run(shift_right)\n",
    "            expectation_left  = ctx.QiskitCirc.run(shift_left)\n",
    "#             print('expectation_right = {}, \\nexpectation_left = {}'.format(expectation_right, expectation_left))\n",
    "            \n",
    "            gradient = torch.tensor([expectation_right], device = device) - torch.tensor([expectation_left], device = device)\n",
    "            # rescale gradient\n",
    "#             gradient = gradient / torch.norm(gradient)\n",
    "#             print('gradient for k={}: {}'.format(k, gradient))\n",
    "            gradients = torch.cat((gradients, gradient.float()))\n",
    "            \n",
    "        result = gradients.detach().clone()\n",
    "#         print('gradients = {}'.format(result))\n",
    "#         print('grad_output = {}'.format(grad_output))\n",
    "\n",
    "        return (result.float() * grad_output.float()).T"
   ]
  },
  {
   "cell_type": "code",
   "execution_count": 8,
   "metadata": {
    "executionInfo": {
     "elapsed": 7,
     "status": "ok",
     "timestamp": 1627890538182,
     "user": {
      "displayName": "Alessandro Sebastianelli",
      "photoUrl": "https://lh3.googleusercontent.com/a-/AOh14GgVWBLvEG9yF5gq_rkIyj5MCLQv1OzgwlLWxu7e=s64",
      "userId": "16665723407518839496"
     },
     "user_tz": -120
    },
    "id": "cjTZRiru0eKr"
   },
   "outputs": [],
   "source": [
    "import sys\n",
    "sys.path.append('/home/jovyan/QNN4RadarImage/')"
   ]
  },
  {
   "cell_type": "code",
   "execution_count": 9,
   "metadata": {
    "executionInfo": {
     "elapsed": 5,
     "status": "ok",
     "timestamp": 1627890538567,
     "user": {
      "displayName": "Alessandro Sebastianelli",
      "photoUrl": "https://lh3.googleusercontent.com/a-/AOh14GgVWBLvEG9yF5gq_rkIyj5MCLQv1OzgwlLWxu7e=s64",
      "userId": "16665723407518839496"
     },
     "user_tz": -120
    },
    "id": "An1kDAd-0f1q"
   },
   "outputs": [],
   "source": [
    "from DatasetHandler import DatasetHandler\n",
    "dataset_root = '/home/jovyan/QNN4RadarImage/datasets/EuroSAT/'\n",
    "handler = DatasetHandler(dataset_root)"
   ]
  },
  {
   "cell_type": "code",
   "execution_count": 10,
   "metadata": {
    "colab": {
     "base_uri": "https://localhost:8080/"
    },
    "executionInfo": {
     "elapsed": 4,
     "status": "ok",
     "timestamp": 1627890538567,
     "user": {
      "displayName": "Alessandro Sebastianelli",
      "photoUrl": "https://lh3.googleusercontent.com/a-/AOh14GgVWBLvEG9yF5gq_rkIyj5MCLQv1OzgwlLWxu7e=s64",
      "userId": "16665723407518839496"
     },
     "user_tz": -120
    },
    "id": "YcZfoXab0hDP",
    "outputId": "875341ec-981a-49a5-b212-32953987deed"
   },
   "outputs": [
    {
     "data": {
      "text/plain": [
       "['AnnualCrop',\n",
       " 'Forest',\n",
       " 'HerbaceousVegetation',\n",
       " 'Highway',\n",
       " 'Industrial',\n",
       " 'Pasture',\n",
       " 'PermanentCrop',\n",
       " 'Residential',\n",
       " 'River',\n",
       " 'SeaLake']"
      ]
     },
     "execution_count": 10,
     "metadata": {},
     "output_type": "execute_result"
    }
   ],
   "source": [
    "classes = []\n",
    "for i, c in enumerate(handler.classes):\n",
    "  cl = c.split('/')[-1]\n",
    "  classes.append(cl)\n",
    "classes.sort()\n",
    "classes"
   ]
  },
  {
   "cell_type": "code",
   "execution_count": 11,
   "metadata": {
    "colab": {
     "base_uri": "https://localhost:8080/"
    },
    "executionInfo": {
     "elapsed": 38690,
     "status": "ok",
     "timestamp": 1627890577527,
     "user": {
      "displayName": "Alessandro Sebastianelli",
      "photoUrl": "https://lh3.googleusercontent.com/a-/AOh14GgVWBLvEG9yF5gq_rkIyj5MCLQv1OzgwlLWxu7e=s64",
      "userId": "16665723407518839496"
     },
     "user_tz": -120
    },
    "id": "tTMKedxr0tCP",
    "outputId": "93a1fcc1-3dc0-4de2-90bf-91f955f929ed"
   },
   "outputs": [
    {
     "name": "stdout",
     "output_type": "stream",
     "text": [
      "Dataset images: 27000 Dataset labels: 27000\n",
      "Dataset sample -> /home/jovyan/QNN4RadarImage/datasets/EuroSAT/Pasture/Pasture_403.jpg 5\n"
     ]
    }
   ],
   "source": [
    "imgs_path, imgs_label = handler.load_paths_labels(dataset_root, classes=classes)\n",
    "print('Dataset images:', len(imgs_path), 'Dataset labels:', len(imgs_label))\n",
    "print('Dataset sample ->', imgs_path[0], imgs_label[0])"
   ]
  },
  {
   "cell_type": "code",
   "execution_count": 12,
   "metadata": {
    "colab": {
     "base_uri": "https://localhost:8080/"
    },
    "executionInfo": {
     "elapsed": 20,
     "status": "ok",
     "timestamp": 1627890577528,
     "user": {
      "displayName": "Alessandro Sebastianelli",
      "photoUrl": "https://lh3.googleusercontent.com/a-/AOh14GgVWBLvEG9yF5gq_rkIyj5MCLQv1OzgwlLWxu7e=s64",
      "userId": "16665723407518839496"
     },
     "user_tz": -120
    },
    "id": "Ku3ztjPT0urb",
    "outputId": "5a2039f6-295f-4f45-e3d6-f2f32933686f"
   },
   "outputs": [
    {
     "name": "stdout",
     "output_type": "stream",
     "text": [
      "X_train shape: (21600,) Y_train shape: (21600,)\n",
      "  X_val shape:  (5400,)   Y_val shape:  (5400,)\n"
     ]
    }
   ],
   "source": [
    "train_imgs, train_labels, val_images, val_labels = handler.train_validation_split(imgs_path, imgs_label, split_factor=0.2)\n",
    "print('X_train shape:', train_imgs.shape, 'Y_train shape:', train_labels.shape)\n",
    "print('  X_val shape: ', val_images.shape, '  Y_val shape: ', val_labels.shape)"
   ]
  },
  {
   "cell_type": "code",
   "execution_count": 13,
   "metadata": {
    "executionInfo": {
     "elapsed": 13,
     "status": "ok",
     "timestamp": 1627890577529,
     "user": {
      "displayName": "Alessandro Sebastianelli",
      "photoUrl": "https://lh3.googleusercontent.com/a-/AOh14GgVWBLvEG9yF5gq_rkIyj5MCLQv1OzgwlLWxu7e=s64",
      "userId": "16665723407518839496"
     },
     "user_tz": -120
    },
    "id": "InesYmyx0wgc"
   },
   "outputs": [],
   "source": [
    "class Net(nn.Module):\n",
    "    def __init__(self):\n",
    "        super(Net, self).__init__()\n",
    "        self.conv1 = nn.Conv2d(3, 16, kernel_size=3)\n",
    "        self.conv2 = nn.Conv2d(16, 32, kernel_size=3)\n",
    "        self.conv3 = nn.Conv2d(32, 64, kernel_size=3)\n",
    "\n",
    "        #self.conv2_drop = nn.Dropout2d()\n",
    "\n",
    "        self.fc1 = nn.Linear(2304, 120)\n",
    "        self.fc2 = nn.Linear(120, 84)\n",
    "        self.fc3 = nn.Linear(84, 42)\n",
    "\n",
    "        self.fc4 = nn.Linear(2304, 2*NUM_QUBITS)\n",
    "        \n",
    "        self.qc = TorchCircuit.apply\n",
    "\n",
    "        self.fc5 = nn.Linear(16, 10)\n",
    "\n",
    "    def forward(self, x):\n",
    "        x = F.relu(F.max_pool2d(self.conv1(x), 2))\n",
    "        x = F.relu(F.max_pool2d(self.conv2(x), 2))\n",
    "        x = F.relu(F.max_pool2d(self.conv3(x), 2))\n",
    "\n",
    "        x = x.view(-1, 2304)\n",
    "        #x = F.relu(self.fc1(x))\n",
    "        #x = F.dropout(x, training=self.training)\n",
    "        #x = F.relu(self.fc2(x))\n",
    "\n",
    "        #x = F.relu(self.fc3(x))\n",
    "\n",
    "        x = self.fc4(x)\n",
    "        x = np.pi*torch.tanh(x)\n",
    "        \n",
    "        x = self.qc(x[0]) # QUANTUM LAYER\n",
    "        \n",
    "        x = F.relu(x)\n",
    "        #print('output of QC = {}'.format(x))\n",
    "        \n",
    "#         # softmax rather than sigmoid\n",
    "        x = self.fc5(x.float())\n",
    "        #print('output of Linear(1, 2): {}'.format(x))\n",
    "        x = F.softmax(x, 1)\n",
    "\n",
    "        #x = torch.sigmoid(x)\n",
    "        #x = torch.cat((x, 1-x), -1)\n",
    "        return x\n",
    "    \n",
    "    \n",
    "    def predict(self, x):\n",
    "        # apply softmax\n",
    "        pred = self.forward(x)\n",
    "#         print(pred)\n",
    "        ans = torch.argmax(pred[0]).item()\n",
    "        return torch.tensor(ans, device = device)\n",
    "    \n",
    "network = Net().to(device)\n",
    "optimizer = optim.Adam(network.parameters(), lr=0.0002)"
   ]
  },
  {
   "cell_type": "code",
   "execution_count": 14,
   "metadata": {
    "executionInfo": {
     "elapsed": 13,
     "status": "ok",
     "timestamp": 1627890577531,
     "user": {
      "displayName": "Alessandro Sebastianelli",
      "photoUrl": "https://lh3.googleusercontent.com/a-/AOh14GgVWBLvEG9yF5gq_rkIyj5MCLQv1OzgwlLWxu7e=s64",
      "userId": "16665723407518839496"
     },
     "user_tz": -120
    },
    "id": "8oMzCmz11PVo"
   },
   "outputs": [],
   "source": [
    "from sklearn.metrics import confusion_matrix, ConfusionMatrixDisplay, classification_report\n",
    "\n",
    "#from torchsummary import summary\n",
    "#summary(network, (3, 64, 64))"
   ]
  },
  {
   "cell_type": "code",
   "execution_count": 15,
   "metadata": {
    "executionInfo": {
     "elapsed": 13,
     "status": "ok",
     "timestamp": 1627890577532,
     "user": {
      "displayName": "Alessandro Sebastianelli",
      "photoUrl": "https://lh3.googleusercontent.com/a-/AOh14GgVWBLvEG9yF5gq_rkIyj5MCLQv1OzgwlLWxu7e=s64",
      "userId": "16665723407518839496"
     },
     "user_tz": -120
    },
    "id": "hxkBEGs401rE"
   },
   "outputs": [],
   "source": [
    "train_loader = iter(handler.qcnn_data_loader(train_imgs, train_labels, batch_size = 1, img_shape = (64,64,3)))\n",
    "test_loader = iter(handler.qcnn_data_loader(val_images, val_labels, batch_size = 1, img_shape = (64,64,3)))"
   ]
  },
  {
   "cell_type": "code",
   "execution_count": 16,
   "metadata": {
    "executionInfo": {
     "elapsed": 1040,
     "status": "ok",
     "timestamp": 1627890578560,
     "user": {
      "displayName": "Alessandro Sebastianelli",
      "photoUrl": "https://lh3.googleusercontent.com/a-/AOh14GgVWBLvEG9yF5gq_rkIyj5MCLQv1OzgwlLWxu7e=s64",
      "userId": "16665723407518839496"
     },
     "user_tz": -120
    },
    "id": "IhLeUsW1_WpK"
   },
   "outputs": [],
   "source": [
    "checkpoint = torch.load('/home/jovyan/QNN4RadarImage/JSTARS2021/quantum_classifiers/eurosat_classification/saved_models/model-real-amp-2.pt', map_location=device)\n",
    "network.load_state_dict(checkpoint['model_state_dict'])\n",
    "optimizer.load_state_dict(checkpoint['optimizer_state_dict'])\n",
    "epoch = checkpoint['epoch']\n",
    "loss = checkpoint['loss']"
   ]
  },
  {
   "cell_type": "code",
   "execution_count": 18,
   "metadata": {
    "colab": {
     "base_uri": "https://localhost:8080/"
    },
    "id": "nUoZidbl05zA",
    "outputId": "71048057-182e-409a-c302-081664138279"
   },
   "outputs": [
    {
     "name": "stdout",
     "output_type": "stream",
     "text": [
      " Epoch 0 ~ Batch 21599 (21599) ~ Loss 1.461209 \t\tTraining [4%]\t Training Loss: 1.5338 Validation Loss: 1.5643\n",
      " Epoch 1 ~ Batch 21599 (21599) ~ Loss 1.461166 \t\tTraining [8%]\t Training Loss: 1.5295 Validation Loss: 1.5657\n",
      "[[0.86511628 0.00465116 0.0124031  0.02945736 0.         0.01085271\n",
      "  0.02790698 0.00310078 0.04496124 0.00155039]\n",
      " [0.         0.98313659 0.01349073 0.00168634 0.         0.00168634\n",
      "  0.         0.         0.         0.        ]\n",
      " [0.01145038 0.0019084  0.89503817 0.02862595 0.00763359 0.01526718\n",
      "  0.01908397 0.01526718 0.0019084  0.00381679]\n",
      " [0.01028807 0.00205761 0.01646091 0.81893004 0.02057613 0.01646091\n",
      "  0.03703704 0.01646091 0.0617284  0.        ]\n",
      " [0.         0.         0.         0.0039604  0.93861386 0.\n",
      "  0.0019802  0.04554455 0.00990099 0.        ]\n",
      " [0.00229358 0.0733945  0.02752294 0.01146789 0.         0.80045872\n",
      "  0.01605505 0.02522936 0.04357798 0.        ]\n",
      " [0.01176471 0.         0.09019608 0.06078431 0.00196078 0.00588235\n",
      "  0.81764706 0.00784314 0.00392157 0.        ]\n",
      " [0.         0.         0.         0.         0.00470958 0.\n",
      "  0.         0.99529042 0.         0.        ]\n",
      " [0.04458599 0.00424628 0.01061571 0.08280255 0.         0.00424628\n",
      "  0.00212314 0.         0.84076433 0.01061571]\n",
      " [0.         0.00337268 0.         0.         0.         0.\n",
      "  0.         0.         0.01349073 0.98313659]]\n",
      "                      precision    recall  f1-score   support\n",
      "\n",
      "          AnnualCrop     0.9347    0.8651    0.8986       645\n",
      "              Forest     0.9343    0.9831    0.9581       593\n",
      "HerbaceousVegetation     0.8435    0.8950    0.8685       524\n",
      "             Highway     0.7804    0.8189    0.7992       486\n",
      "          Industrial     0.9634    0.9386    0.9509       505\n",
      "             Pasture     0.9233    0.8005    0.8575       436\n",
      "       PermanentCrop     0.8835    0.8176    0.8493       510\n",
      "         Residential     0.9188    0.9953    0.9555       637\n",
      "               River     0.8082    0.8408    0.8241       471\n",
      "             SeaLake     0.9865    0.9831    0.9848       593\n",
      "\n",
      "            accuracy                         0.9002      5400\n",
      "           macro avg     0.8977    0.8938    0.8946      5400\n",
      "        weighted avg     0.9016    0.9002    0.8999      5400\n",
      "\n",
      " Epoch 2 ~ Batch 21599 (21599) ~ Loss 1.461256 \t\tTraining [12%]\t Training Loss: 1.5283 Validation Loss: 1.5524\n",
      " Epoch 3 ~ Batch 11457 (21599) ~ Loss 1.463198 \t\t"
     ]
    },
    {
     "name": "stderr",
     "output_type": "stream",
     "text": [
      "IOPub message rate exceeded.\n",
      "The Jupyter server will temporarily stop sending output\n",
      "to the client in order to avoid crashing it.\n",
      "To change this limit, set the config variable\n",
      "`--ServerApp.iopub_msg_rate_limit`.\n",
      "\n",
      "Current values:\n",
      "ServerApp.iopub_msg_rate_limit=1000.0 (msgs/sec)\n",
      "ServerApp.rate_limit_window=3.0 (secs)\n",
      "\n"
     ]
    },
    {
     "name": "stdout",
     "output_type": "stream",
     "text": [
      " Epoch 4 ~ Batch 20290 (21599) ~ Loss 1.461157 \t\t"
     ]
    },
    {
     "name": "stderr",
     "output_type": "stream",
     "text": [
      "IOPub message rate exceeded.\n",
      "The Jupyter server will temporarily stop sending output\n",
      "to the client in order to avoid crashing it.\n",
      "To change this limit, set the config variable\n",
      "`--ServerApp.iopub_msg_rate_limit`.\n",
      "\n",
      "Current values:\n",
      "ServerApp.iopub_msg_rate_limit=1000.0 (msgs/sec)\n",
      "ServerApp.rate_limit_window=3.0 (secs)\n",
      "\n"
     ]
    },
    {
     "name": "stdout",
     "output_type": "stream",
     "text": [
      " Epoch 5 ~ Batch 1891 (21599) ~ Loss 2.409777 \t\t"
     ]
    },
    {
     "name": "stderr",
     "output_type": "stream",
     "text": [
      "IOPub message rate exceeded.\n",
      "The Jupyter server will temporarily stop sending output\n",
      "to the client in order to avoid crashing it.\n",
      "To change this limit, set the config variable\n",
      "`--ServerApp.iopub_msg_rate_limit`.\n",
      "\n",
      "Current values:\n",
      "ServerApp.iopub_msg_rate_limit=1000.0 (msgs/sec)\n",
      "ServerApp.rate_limit_window=3.0 (secs)\n",
      "\n"
     ]
    },
    {
     "name": "stdout",
     "output_type": "stream",
     "text": [
      " Epoch 6 ~ Batch 10794 (21599) ~ Loss 1.461282 \t\t"
     ]
    },
    {
     "name": "stderr",
     "output_type": "stream",
     "text": [
      "IOPub message rate exceeded.\n",
      "The Jupyter server will temporarily stop sending output\n",
      "to the client in order to avoid crashing it.\n",
      "To change this limit, set the config variable\n",
      "`--ServerApp.iopub_msg_rate_limit`.\n",
      "\n",
      "Current values:\n",
      "ServerApp.iopub_msg_rate_limit=1000.0 (msgs/sec)\n",
      "ServerApp.rate_limit_window=3.0 (secs)\n",
      "\n"
     ]
    },
    {
     "name": "stdout",
     "output_type": "stream",
     "text": [
      " Epoch 6 ~ Batch 13998 (21599) ~ Loss 1.461165 \t\t"
     ]
    },
    {
     "name": "stderr",
     "output_type": "stream",
     "text": [
      "IOPub message rate exceeded.\n",
      "The Jupyter server will temporarily stop sending output\n",
      "to the client in order to avoid crashing it.\n",
      "To change this limit, set the config variable\n",
      "`--ServerApp.iopub_msg_rate_limit`.\n",
      "\n",
      "Current values:\n",
      "ServerApp.iopub_msg_rate_limit=1000.0 (msgs/sec)\n",
      "ServerApp.rate_limit_window=3.0 (secs)\n",
      "\n"
     ]
    },
    {
     "name": "stdout",
     "output_type": "stream",
     "text": [
      " Epoch 7 ~ Batch 21599 (21599) ~ Loss 1.461160 \t\tTraining [32%]\t Training Loss: 1.5200 Validation Loss: 1.5860\n",
      "[[0.93867925 0.00157233 0.00471698 0.00314465 0.00471698 0.00786164\n",
      "  0.00628931 0.00157233 0.02515723 0.00628931]\n",
      " [0.         0.96984127 0.01904762 0.0015873  0.         0.0047619\n",
      "  0.         0.         0.0015873  0.0031746 ]\n",
      " [0.02333333 0.00333333 0.895      0.02333333 0.00166667 0.01666667\n",
      "  0.01       0.01       0.         0.01666667]\n",
      " [0.05668016 0.00202429 0.05870445 0.71862348 0.02226721 0.01012146\n",
      "  0.048583   0.00607287 0.0708502  0.00607287]\n",
      " [0.00393701 0.         0.01574803 0.00984252 0.8484252  0.\n",
      "  0.01771654 0.08858268 0.01574803 0.        ]\n",
      " [0.00697674 0.03488372 0.0372093  0.01860465 0.         0.85813953\n",
      "  0.00465116 0.01395349 0.0255814  0.        ]\n",
      " [0.07592191 0.0021692  0.18004338 0.02169197 0.00433839 0.0021692\n",
      "  0.70281996 0.0021692  0.00867679 0.        ]\n",
      " [0.         0.         0.00509338 0.         0.         0.\n",
      "  0.         0.99490662 0.         0.        ]\n",
      " [0.04320988 0.00617284 0.01646091 0.04320988 0.01646091 0.\n",
      "  0.00617284 0.         0.86831276 0.        ]\n",
      " [0.01590106 0.01060071 0.         0.         0.         0.00353357\n",
      "  0.         0.         0.02473498 0.94522968]]\n",
      "                      precision    recall  f1-score   support\n",
      "\n",
      "          AnnualCrop     0.8420    0.9387    0.8877       636\n",
      "              Forest     0.9547    0.9698    0.9622       630\n",
      "HerbaceousVegetation     0.7682    0.8950    0.8268       600\n",
      "             Highway     0.8534    0.7186    0.7802       494\n",
      "          Industrial     0.9452    0.8484    0.8942       508\n",
      "             Pasture     0.9342    0.8581    0.8945       430\n",
      "       PermanentCrop     0.8710    0.7028    0.7779       461\n",
      "         Residential     0.9043    0.9949    0.9475       589\n",
      "               River     0.8258    0.8683    0.8465       486\n",
      "             SeaLake     0.9657    0.9452    0.9554       566\n",
      "\n",
      "            accuracy                         0.8828      5400\n",
      "           macro avg     0.8865    0.8740    0.8773      5400\n",
      "        weighted avg     0.8858    0.8828    0.8815      5400\n",
      "\n",
      " Epoch 8 ~ Batch 1469 (21599) ~ Loss 1.461470 \t\t"
     ]
    },
    {
     "name": "stderr",
     "output_type": "stream",
     "text": [
      "IOPub message rate exceeded.\n",
      "The Jupyter server will temporarily stop sending output\n",
      "to the client in order to avoid crashing it.\n",
      "To change this limit, set the config variable\n",
      "`--ServerApp.iopub_msg_rate_limit`.\n",
      "\n",
      "Current values:\n",
      "ServerApp.iopub_msg_rate_limit=1000.0 (msgs/sec)\n",
      "ServerApp.rate_limit_window=3.0 (secs)\n",
      "\n"
     ]
    },
    {
     "name": "stdout",
     "output_type": "stream",
     "text": [
      " Epoch 8 ~ Batch 4629 (21599) ~ Loss 1.462512 \t\t"
     ]
    },
    {
     "name": "stderr",
     "output_type": "stream",
     "text": [
      "IOPub message rate exceeded.\n",
      "The Jupyter server will temporarily stop sending output\n",
      "to the client in order to avoid crashing it.\n",
      "To change this limit, set the config variable\n",
      "`--ServerApp.iopub_msg_rate_limit`.\n",
      "\n",
      "Current values:\n",
      "ServerApp.iopub_msg_rate_limit=1000.0 (msgs/sec)\n",
      "ServerApp.rate_limit_window=3.0 (secs)\n",
      "\n"
     ]
    },
    {
     "name": "stdout",
     "output_type": "stream",
     "text": [
      " Epoch 9 ~ Batch 14725 (21599) ~ Loss 1.828065 \t\t"
     ]
    },
    {
     "name": "stderr",
     "output_type": "stream",
     "text": [
      "IOPub message rate exceeded.\n",
      "The Jupyter server will temporarily stop sending output\n",
      "to the client in order to avoid crashing it.\n",
      "To change this limit, set the config variable\n",
      "`--ServerApp.iopub_msg_rate_limit`.\n",
      "\n",
      "Current values:\n",
      "ServerApp.iopub_msg_rate_limit=1000.0 (msgs/sec)\n",
      "ServerApp.rate_limit_window=3.0 (secs)\n",
      "\n"
     ]
    },
    {
     "name": "stdout",
     "output_type": "stream",
     "text": [
      " Epoch 10 ~ Batch 21599 (21599) ~ Loss 1.461391 \t\tTraining [44%]\t Training Loss: 1.5177 Validation Loss: 1.5855\n",
      "[[0.89984351 0.00312989 0.00469484 0.01408451 0.         0.00312989\n",
      "  0.00625978 0.         0.0657277  0.00312989]\n",
      " [0.00494234 0.93080725 0.01812191 0.00329489 0.         0.00658979\n",
      "  0.         0.         0.00988468 0.02635914]\n",
      " [0.         0.         0.87275986 0.0483871  0.01612903 0.02508961\n",
      "  0.02150538 0.00358423 0.00896057 0.00358423]\n",
      " [0.03877551 0.         0.01836735 0.76530612 0.01428571 0.\n",
      "  0.03265306 0.00816327 0.12244898 0.        ]\n",
      " [0.00811359 0.00608519 0.         0.02434077 0.92900609 0.\n",
      "  0.02028398 0.00608519 0.00608519 0.        ]\n",
      " [0.01123596 0.02022472 0.02022472 0.02022472 0.         0.8247191\n",
      "  0.00674157 0.00224719 0.08988764 0.00449438]\n",
      " [0.05954825 0.00205339 0.07186858 0.10677618 0.00205339 0.01232033\n",
      "  0.73305955 0.         0.01232033 0.        ]\n",
      " [0.         0.         0.00160514 0.01284109 0.0529695  0.\n",
      "  0.00481541 0.92776886 0.         0.        ]\n",
      " [0.03232323 0.0020202  0.         0.04242424 0.0040404  0.0040404\n",
      "  0.0020202  0.         0.90505051 0.00808081]\n",
      " [0.0035524  0.         0.         0.         0.         0.\n",
      "  0.         0.         0.00888099 0.98756661]]\n",
      "                      precision    recall  f1-score   support\n",
      "\n",
      "          AnnualCrop     0.8806    0.8998    0.8901       639\n",
      "              Forest     0.9725    0.9308    0.9512       607\n",
      "HerbaceousVegetation     0.8775    0.8728    0.8751       558\n",
      "             Highway     0.7282    0.7653    0.7463       490\n",
      "          Industrial     0.8980    0.9290    0.9133       493\n",
      "             Pasture     0.9291    0.8247    0.8738       445\n",
      "       PermanentCrop     0.8793    0.7331    0.7996       487\n",
      "         Residential     0.9830    0.9278    0.9546       623\n",
      "               River     0.7285    0.9051    0.8072       495\n",
      "             SeaLake     0.9553    0.9876    0.9712       563\n",
      "\n",
      "            accuracy                         0.8826      5400\n",
      "           macro avg     0.8832    0.8776    0.8782      5400\n",
      "        weighted avg     0.8879    0.8826    0.8833      5400\n",
      "\n",
      " Epoch 11 ~ Batch 4622 (21599) ~ Loss 1.461588 \t\t"
     ]
    },
    {
     "name": "stderr",
     "output_type": "stream",
     "text": [
      "IOPub message rate exceeded.\n",
      "The Jupyter server will temporarily stop sending output\n",
      "to the client in order to avoid crashing it.\n",
      "To change this limit, set the config variable\n",
      "`--ServerApp.iopub_msg_rate_limit`.\n",
      "\n",
      "Current values:\n",
      "ServerApp.iopub_msg_rate_limit=1000.0 (msgs/sec)\n",
      "ServerApp.rate_limit_window=3.0 (secs)\n",
      "\n"
     ]
    },
    {
     "name": "stdout",
     "output_type": "stream",
     "text": [
      " Epoch 12 ~ Batch 15949 (21599) ~ Loss 1.483175 \t\t"
     ]
    },
    {
     "name": "stderr",
     "output_type": "stream",
     "text": [
      "IOPub message rate exceeded.\n",
      "The Jupyter server will temporarily stop sending output\n",
      "to the client in order to avoid crashing it.\n",
      "To change this limit, set the config variable\n",
      "`--ServerApp.iopub_msg_rate_limit`.\n",
      "\n",
      "Current values:\n",
      "ServerApp.iopub_msg_rate_limit=1000.0 (msgs/sec)\n",
      "ServerApp.rate_limit_window=3.0 (secs)\n",
      "\n"
     ]
    },
    {
     "name": "stdout",
     "output_type": "stream",
     "text": [
      " Epoch 13 ~ Batch 21599 (21599) ~ Loss 1.462392 \t\tTraining [56%]\t Training Loss: 1.5123 Validation Loss: 1.5705\n",
      "[[0.90228013 0.00325733 0.00977199 0.00651466 0.00325733 0.00488599\n",
      "  0.0276873  0.         0.03908795 0.00325733]\n",
      " [0.         0.95198675 0.01821192 0.00165563 0.         0.01821192\n",
      "  0.         0.         0.00165563 0.00827815]\n",
      " [0.01417323 0.0015748  0.87244094 0.02047244 0.01732283 0.01574803\n",
      "  0.0519685  0.00314961 0.00314961 0.        ]\n",
      " [0.03483607 0.         0.03278689 0.76229508 0.01639344 0.00409836\n",
      "  0.06147541 0.00614754 0.08196721 0.        ]\n",
      " [0.         0.         0.00574713 0.01724138 0.94252874 0.\n",
      "  0.00383142 0.02490421 0.00574713 0.        ]\n",
      " [0.00694444 0.0162037  0.03240741 0.         0.         0.8912037\n",
      "  0.01157407 0.00694444 0.03009259 0.00462963]\n",
      " [0.02586207 0.         0.09698276 0.03017241 0.00646552 0.01077586\n",
      "  0.82112069 0.         0.00862069 0.        ]\n",
      " [0.         0.         0.00527241 0.00351494 0.01581722 0.\n",
      "  0.01405975 0.96133568 0.         0.        ]\n",
      " [0.0371134  0.00206186 0.         0.05773196 0.00824742 0.01649485\n",
      "  0.00412371 0.         0.8556701  0.0185567 ]\n",
      " [0.01703578 0.00681431 0.         0.         0.         0.\n",
      "  0.         0.         0.00511073 0.97103918]]\n",
      "                      precision    recall  f1-score   support\n",
      "\n",
      "          AnnualCrop     0.8892    0.9023    0.8957       614\n",
      "              Forest     0.9746    0.9520    0.9631       604\n",
      "HerbaceousVegetation     0.8497    0.8724    0.8609       635\n",
      "             Highway     0.8397    0.7623    0.7991       488\n",
      "          Industrial     0.9301    0.9425    0.9363       522\n",
      "             Pasture     0.9080    0.8912    0.8995       432\n",
      "       PermanentCrop     0.7971    0.8211    0.8089       464\n",
      "         Residential     0.9630    0.9613    0.9622       569\n",
      "               River     0.8218    0.8557    0.8384       485\n",
      "             SeaLake     0.9694    0.9710    0.9702       587\n",
      "\n",
      "            accuracy                         0.8972      5400\n",
      "           macro avg     0.8943    0.8932    0.8934      5400\n",
      "        weighted avg     0.8976    0.8972    0.8972      5400\n",
      "\n",
      " Epoch 14 ~ Batch 5534 (21599) ~ Loss 1.461245 \t\t"
     ]
    },
    {
     "name": "stderr",
     "output_type": "stream",
     "text": [
      "IOPub message rate exceeded.\n",
      "The Jupyter server will temporarily stop sending output\n",
      "to the client in order to avoid crashing it.\n",
      "To change this limit, set the config variable\n",
      "`--ServerApp.iopub_msg_rate_limit`.\n",
      "\n",
      "Current values:\n",
      "ServerApp.iopub_msg_rate_limit=1000.0 (msgs/sec)\n",
      "ServerApp.rate_limit_window=3.0 (secs)\n",
      "\n"
     ]
    },
    {
     "name": "stdout",
     "output_type": "stream",
     "text": [
      " Epoch 15 ~ Batch 15953 (21599) ~ Loss 1.461152 \t\t"
     ]
    },
    {
     "name": "stderr",
     "output_type": "stream",
     "text": [
      "IOPub message rate exceeded.\n",
      "The Jupyter server will temporarily stop sending output\n",
      "to the client in order to avoid crashing it.\n",
      "To change this limit, set the config variable\n",
      "`--ServerApp.iopub_msg_rate_limit`.\n",
      "\n",
      "Current values:\n",
      "ServerApp.iopub_msg_rate_limit=1000.0 (msgs/sec)\n",
      "ServerApp.rate_limit_window=3.0 (secs)\n",
      "\n"
     ]
    },
    {
     "name": "stdout",
     "output_type": "stream",
     "text": [
      " Epoch 16 ~ Batch 21599 (21599) ~ Loss 1.461612 \t\tTraining [68%]\t Training Loss: 1.5117 Validation Loss: 1.5817\n",
      "[[0.87579618 0.00318471 0.01910828 0.01433121 0.00318471 0.03025478\n",
      "  0.02866242 0.         0.02070064 0.00477707]\n",
      " [0.         0.977813   0.         0.00158479 0.         0.00950872\n",
      "  0.         0.         0.00475436 0.00633914]\n",
      " [0.01655629 0.00165563 0.86754967 0.02317881 0.00165563 0.02317881\n",
      "  0.05298013 0.00993377 0.00331126 0.        ]\n",
      " [0.01836735 0.00204082 0.02244898 0.81020408 0.02040816 0.0122449\n",
      "  0.04897959 0.00612245 0.05918367 0.        ]\n",
      " [0.         0.         0.003861   0.02702703 0.88610039 0.\n",
      "  0.03088803 0.03861004 0.01351351 0.        ]\n",
      " [0.         0.00945626 0.03782506 0.01654846 0.         0.89361702\n",
      "  0.00236407 0.0141844  0.02364066 0.00236407]\n",
      " [0.03769841 0.00198413 0.11706349 0.04563492 0.00198413 0.01984127\n",
      "  0.76984127 0.         0.00595238 0.        ]\n",
      " [0.         0.         0.00715564 0.00894454 0.01788909 0.\n",
      "  0.01252236 0.94812165 0.00536673 0.        ]\n",
      " [0.06008584 0.00643777 0.00214592 0.05793991 0.01072961 0.02575107\n",
      "  0.00429185 0.00643777 0.81759657 0.00858369]\n",
      " [0.00693241 0.0034662  0.         0.         0.         0.02599653\n",
      "  0.         0.         0.00866551 0.95493934]]\n",
      "                      precision    recall  f1-score   support\n",
      "\n",
      "          AnnualCrop     0.8871    0.8758    0.8814       628\n",
      "              Forest     0.9778    0.9778    0.9778       631\n",
      "HerbaceousVegetation     0.8331    0.8675    0.8500       604\n",
      "             Highway     0.7988    0.8102    0.8045       490\n",
      "          Industrial     0.9406    0.8861    0.9125       518\n",
      "             Pasture     0.8217    0.8936    0.8562       423\n",
      "       PermanentCrop     0.7951    0.7698    0.7823       504\n",
      "         Residential     0.9331    0.9481    0.9406       559\n",
      "               River     0.8355    0.8176    0.8265       466\n",
      "             SeaLake     0.9787    0.9549    0.9667       577\n",
      "\n",
      "            accuracy                         0.8843      5400\n",
      "           macro avg     0.8801    0.8802    0.8798      5400\n",
      "        weighted avg     0.8852    0.8843    0.8844      5400\n",
      "\n",
      " Epoch 17 ~ Batch 603 (21599) ~ Loss 1.461217 \t\t"
     ]
    },
    {
     "name": "stderr",
     "output_type": "stream",
     "text": [
      "IOPub message rate exceeded.\n",
      "The Jupyter server will temporarily stop sending output\n",
      "to the client in order to avoid crashing it.\n",
      "To change this limit, set the config variable\n",
      "`--ServerApp.iopub_msg_rate_limit`.\n",
      "\n",
      "Current values:\n",
      "ServerApp.iopub_msg_rate_limit=1000.0 (msgs/sec)\n",
      "ServerApp.rate_limit_window=3.0 (secs)\n",
      "\n"
     ]
    },
    {
     "name": "stdout",
     "output_type": "stream",
     "text": [
      " Epoch 17 ~ Batch 5876 (21599) ~ Loss 2.444714 \t\t"
     ]
    },
    {
     "name": "stderr",
     "output_type": "stream",
     "text": [
      "IOPub message rate exceeded.\n",
      "The Jupyter server will temporarily stop sending output\n",
      "to the client in order to avoid crashing it.\n",
      "To change this limit, set the config variable\n",
      "`--ServerApp.iopub_msg_rate_limit`.\n",
      "\n",
      "Current values:\n",
      "ServerApp.iopub_msg_rate_limit=1000.0 (msgs/sec)\n",
      "ServerApp.rate_limit_window=3.0 (secs)\n",
      "\n"
     ]
    },
    {
     "name": "stdout",
     "output_type": "stream",
     "text": [
      " Epoch 18 ~ Batch 11174 (21599) ~ Loss 1.461173 \t\t"
     ]
    },
    {
     "name": "stderr",
     "output_type": "stream",
     "text": [
      "IOPub message rate exceeded.\n",
      "The Jupyter server will temporarily stop sending output\n",
      "to the client in order to avoid crashing it.\n",
      "To change this limit, set the config variable\n",
      "`--ServerApp.iopub_msg_rate_limit`.\n",
      "\n",
      "Current values:\n",
      "ServerApp.iopub_msg_rate_limit=1000.0 (msgs/sec)\n",
      "ServerApp.rate_limit_window=3.0 (secs)\n",
      "\n"
     ]
    },
    {
     "name": "stdout",
     "output_type": "stream",
     "text": [
      " Epoch 18 ~ Batch 16497 (21599) ~ Loss 1.461490 \t\t"
     ]
    },
    {
     "name": "stderr",
     "output_type": "stream",
     "text": [
      "IOPub message rate exceeded.\n",
      "The Jupyter server will temporarily stop sending output\n",
      "to the client in order to avoid crashing it.\n",
      "To change this limit, set the config variable\n",
      "`--ServerApp.iopub_msg_rate_limit`.\n",
      "\n",
      "Current values:\n",
      "ServerApp.iopub_msg_rate_limit=1000.0 (msgs/sec)\n",
      "ServerApp.rate_limit_window=3.0 (secs)\n",
      "\n"
     ]
    },
    {
     "name": "stdout",
     "output_type": "stream",
     "text": [
      " Epoch 19 ~ Batch 21599 (21599) ~ Loss 1.527880 \t\tTraining [80%]\t Training Loss: 1.5079 Validation Loss: 1.5766\n",
      "[[0.89984351 0.00782473 0.00782473 0.02347418 0.         0.00625978\n",
      "  0.02034429 0.         0.0312989  0.00312989]\n",
      " [0.         0.96740995 0.00343053 0.01372213 0.0051458  0.0051458\n",
      "  0.         0.         0.         0.0051458 ]\n",
      " [0.0214168  0.00988468 0.84019769 0.00823723 0.01153213 0.01317957\n",
      "  0.08731466 0.00658979 0.00164745 0.        ]\n",
      " [0.04618474 0.         0.02008032 0.81526104 0.01606426 0.00200803\n",
      "  0.04216867 0.00200803 0.0562249  0.        ]\n",
      " [0.         0.         0.00821355 0.01232033 0.9650924  0.\n",
      "  0.00410678 0.01026694 0.         0.        ]\n",
      " [0.01165501 0.08624709 0.01631702 0.06293706 0.         0.7972028\n",
      "  0.01165501 0.         0.01398601 0.        ]\n",
      " [0.04564315 0.00207469 0.05394191 0.04771784 0.02282158 0.00829876\n",
      "  0.80912863 0.         0.01037344 0.        ]\n",
      " [0.         0.         0.00536673 0.00536673 0.03935599 0.\n",
      "  0.         0.94991055 0.         0.        ]\n",
      " [0.04183267 0.00199203 0.00199203 0.05776892 0.00398406 0.00199203\n",
      "  0.         0.         0.88247012 0.00796813]\n",
      " [0.02117264 0.00488599 0.         0.         0.         0.00814332\n",
      "  0.         0.         0.00162866 0.96416938]]\n",
      "                      precision    recall  f1-score   support\n",
      "\n",
      "          AnnualCrop     0.8557    0.8998    0.8772       639\n",
      "              Forest     0.9141    0.9674    0.9400       583\n",
      "HerbaceousVegetation     0.8979    0.8402    0.8681       607\n",
      "             Highway     0.7778    0.8153    0.7961       498\n",
      "          Industrial     0.8987    0.9651    0.9307       487\n",
      "             Pasture     0.9293    0.7972    0.8582       429\n",
      "       PermanentCrop     0.8058    0.8091    0.8075       482\n",
      "         Residential     0.9815    0.9499    0.9655       559\n",
      "               River     0.8790    0.8825    0.8807       502\n",
      "             SeaLake     0.9850    0.9642    0.9745       614\n",
      "\n",
      "            accuracy                         0.8931      5400\n",
      "           macro avg     0.8925    0.8891    0.8898      5400\n",
      "        weighted avg     0.8947    0.8931    0.8931      5400\n",
      "\n",
      " Epoch 20 ~ Batch 666 (21599) ~ Loss 1.461161 \t\t"
     ]
    },
    {
     "name": "stderr",
     "output_type": "stream",
     "text": [
      "IOPub message rate exceeded.\n",
      "The Jupyter server will temporarily stop sending output\n",
      "to the client in order to avoid crashing it.\n",
      "To change this limit, set the config variable\n",
      "`--ServerApp.iopub_msg_rate_limit`.\n",
      "\n",
      "Current values:\n",
      "ServerApp.iopub_msg_rate_limit=1000.0 (msgs/sec)\n",
      "ServerApp.rate_limit_window=3.0 (secs)\n",
      "\n"
     ]
    },
    {
     "name": "stdout",
     "output_type": "stream",
     "text": [
      " Epoch 20 ~ Batch 21599 (21599) ~ Loss 1.461156 \t\tTraining [84%]\t Training Loss: 1.5070 Validation Loss: 1.5851\n",
      " Epoch 21 ~ Batch 21599 (21599) ~ Loss 1.461154 \t\tTraining [88%]\t Training Loss: 1.5085 Validation Loss: 1.5861\n",
      " Epoch 22 ~ Batch 21599 (21599) ~ Loss 2.458476 \t\tTraining [92%]\t Training Loss: 1.5062 Validation Loss: 1.5787\n",
      "[[0.86271186 0.00338983 0.01016949 0.02881356 0.00169492 0.01016949\n",
      "  0.03220339 0.         0.04576271 0.00508475]\n",
      " [0.         0.96463023 0.01607717 0.00643087 0.         0.00160772\n",
      "  0.         0.         0.00482315 0.00643087]\n",
      " [0.00168067 0.00504202 0.85378151 0.02352941 0.01680672 0.02184874\n",
      "  0.05882353 0.01176471 0.00672269 0.        ]\n",
      " [0.02879079 0.         0.03454894 0.73704415 0.04990403 0.00767754\n",
      "  0.05182342 0.00767754 0.0806142  0.00191939]\n",
      " [0.         0.         0.00808081 0.0040404  0.96969697 0.\n",
      "  0.00606061 0.01010101 0.0020202  0.        ]\n",
      " [0.0046729  0.0864486  0.01869159 0.02102804 0.         0.82476636\n",
      "  0.00233645 0.         0.04205607 0.        ]\n",
      " [0.02692308 0.00192308 0.09423077 0.04423077 0.00961538 0.00769231\n",
      "  0.80192308 0.         0.01346154 0.        ]\n",
      " [0.         0.         0.         0.         0.02758621 0.\n",
      "  0.00517241 0.96724138 0.         0.        ]\n",
      " [0.04625551 0.01101322 0.         0.05726872 0.00660793 0.00220264\n",
      "  0.00660793 0.         0.86784141 0.00220264]\n",
      " [0.00672269 0.         0.00168067 0.         0.         0.01176471\n",
      "  0.         0.         0.00672269 0.97310924]]\n",
      "                      precision    recall  f1-score   support\n",
      "\n",
      "          AnnualCrop     0.8993    0.8627    0.8806       590\n",
      "              Forest     0.9259    0.9646    0.9449       622\n",
      "HerbaceousVegetation     0.8411    0.8538    0.8474       595\n",
      "             Highway     0.8017    0.7370    0.7680       521\n",
      "          Industrial     0.8872    0.9697    0.9266       495\n",
      "             Pasture     0.9075    0.8248    0.8641       428\n",
      "       PermanentCrop     0.8209    0.8019    0.8113       520\n",
      "         Residential     0.9723    0.9672    0.9697       580\n",
      "               River     0.7880    0.8678    0.8260       454\n",
      "             SeaLake     0.9847    0.9731    0.9789       595\n",
      "\n",
      "            accuracy                         0.8861      5400\n",
      "           macro avg     0.8828    0.8823    0.8818      5400\n",
      "        weighted avg     0.8864    0.8861    0.8855      5400\n",
      "\n",
      " Epoch 23 ~ Batch 21599 (21599) ~ Loss 1.461208 \t\tTraining [96%]\t Training Loss: 1.5062 Validation Loss: 1.6012\n",
      " Epoch 24 ~ Batch 21599 (21599) ~ Loss 1.461175 \t\tTraining [100%]\t Training Loss: 1.5058 Validation Loss: 1.5813\n"
     ]
    }
   ],
   "source": [
    "train_loss_list = []\n",
    "val_loss_list = []\n",
    "epochs = 25\n",
    "\n",
    "loss_func = nn.CrossEntropyLoss()\n",
    "\n",
    "for epoch in range(epochs):\n",
    "  train_loader = iter(handler.qcnn_data_loader(train_imgs, train_labels, batch_size = 1, img_shape = (64,64,3)))\n",
    "  test_loader = iter(handler.qcnn_data_loader(val_images, val_labels, batch_size = 1, img_shape = (64,64,3)))\n",
    "  total_loss = []\n",
    "  for batch_idx in range(len(train_labels)):\n",
    "    data, target = next(train_loader) \n",
    "    data = data.to(device)\n",
    "    target = target.to(device)\n",
    "    # print(batch_idx)\n",
    "    optimizer.zero_grad()        \n",
    "    # Forward pass\n",
    "    output = network(data)\n",
    "    # Calculating loss\n",
    "    loss = loss_func(output, target)\n",
    "    # Backward pass\n",
    "    loss.backward()\n",
    "    loss.detach_()\n",
    "    \n",
    "    # Optimize the weights\n",
    "    optimizer.step()\n",
    "    \n",
    "    total_loss.append(loss.item())\n",
    "    \n",
    "    print('\\r Epoch %d ~ Batch %d (%d) ~ Loss %f ' % (epoch, batch_idx, len(train_imgs)-1, loss.item()), end='\\t\\t')\n",
    "    \n",
    "    del output\n",
    "    del loss\n",
    "  \n",
    "  with torch.no_grad():\n",
    "    val_loss = []\n",
    "    targets = []\n",
    "    predictions = []\n",
    "    for batch_idx in range(len(val_images)):\n",
    "      data, target = next(test_loader)\n",
    "      data = data.to(device)\n",
    "      target = target.to(device)\n",
    "      output = network(data)\n",
    "      loss = loss_func(output, target)\n",
    "      loss.detach_()\n",
    "      val_loss.append(loss.item())\n",
    "        \n",
    "      del output\n",
    "      del loss\n",
    "\n",
    "      targets.append(target.item())\n",
    "      \n",
    "      predictions.append(network.predict(data).item())\n",
    "  \n",
    "      \n",
    "  train_loss_list.append(sum(total_loss)/len(total_loss))\n",
    "  val_loss_list.append(sum(val_loss)/len(val_loss))\n",
    "  \n",
    "  print('Training [{:.0f}%]\\t Training Loss: {:.4f} Validation Loss: {:.4f}'.format(\n",
    "      100. * (epoch + 1) / epochs, train_loss_list[-1], val_loss_list[-1]))\n",
    "  \n",
    "  if epoch % 3 == 1:\n",
    "    print(confusion_matrix(targets, predictions,normalize='true'))\n",
    "    print(classification_report(targets, predictions, target_names=classes, digits=4))\n",
    "    torch.save({\n",
    "            'epoch': epoch,\n",
    "            'model_state_dict': network.state_dict(),\n",
    "            'optimizer_state_dict': optimizer.state_dict(),\n",
    "            'loss': train_loss_list[-1],\n",
    "            }, '/home/jovyan/QNN4RadarImage/JSTARS2021/quantum_classifiers/eurosat_classification/saved_models_new/model-real-amp-2.pt')\n",
    "    #torch.save(network.state_dict(), '/content/drive/MyDrive/QAI4EO/model-bell.pt')"
   ]
  },
  {
   "cell_type": "code",
   "execution_count": null,
   "metadata": {
    "id": "tyaee9pf1fxF"
   },
   "outputs": [],
   "source": [
    "fig, plt.plot(train_loss_list)\n",
    "plt.plot(val_loss_list)\n",
    "plt.title('Hybrid NN Training Convergence for {}-qubit'.format(NUM_QUBITS))\n",
    "plt.xlabel('Training Iterations')\n",
    "plt.ylabel('Cross Entropy Loss')\n",
    "plt.legend(['Training', 'Validation'])\n",
    "plt.show()"
   ]
  },
  {
   "cell_type": "code",
   "execution_count": null,
   "metadata": {
    "id": "1eRGMZkV1gPE"
   },
   "outputs": [],
   "source": [
    "import numpy as np\n",
    "import matplotlib.pyplot as plt\n",
    "from scipy.optimize import curve_fit\n",
    "\n",
    "def func(x, a, b, c):\n",
    "  return a * np.exp(-b * x) + c\n",
    "\n",
    "x = np.linspace(0,len(train_loss_list),len(train_loss_list))\n",
    "y = func(x, 2.5, 1.3, 0.5)\n",
    "yn = np.array(val_loss_list)\n",
    "\n",
    "popt, pcov = curve_fit(func, x, yn)\n",
    "\n",
    "plt.figure()\n",
    "x1 = np.linspace(0,100+len(train_loss_list),100+len(train_loss_list))\n",
    "plt.plot(x, yn, 'ko', label=\"Loss\")\n",
    "plt.plot(x1, func(x1, *popt), 'r-', label=\"Fitted Curve\")\n",
    "plt.legend()\n",
    "plt.show()"
   ]
  },
  {
   "cell_type": "code",
   "execution_count": null,
   "metadata": {
    "id": "owQ_-Zo51i0u"
   },
   "outputs": [],
   "source": [
    "test_loader = iter(handler.qcnn_data_loader(val_images, val_labels, batch_size = 1, img_shape = (64,64,3)))\n",
    "accuracy = 0\n",
    "number = 0\n",
    "\n",
    "predictions = []\n",
    "targets = []\n",
    "\n",
    "for ct in range(len(val_images)):\n",
    "\n",
    "  data, target = next(test_loader)\n",
    "  data = data.to(device)\n",
    "  target = target.to(device)\n",
    "  number +=1\n",
    "  output = network.predict(data).item()\n",
    "  \n",
    "  predictions.append(output)\n",
    "  targets.append(target.item())\n",
    "  \n",
    "  accuracy += (output == target[0].item())*1\n",
    "  print('\\r ' + str(ct), end='')"
   ]
  },
  {
   "cell_type": "code",
   "execution_count": null,
   "metadata": {
    "id": "GZSoIb5bAveU"
   },
   "outputs": [],
   "source": [
    "plt.hist(targets, bins = 10)"
   ]
  },
  {
   "cell_type": "code",
   "execution_count": null,
   "metadata": {
    "id": "N6ohu74x1lAN"
   },
   "outputs": [],
   "source": [
    "print(\"Performance on test data is : {}/{} = {}%\".format(accuracy,number,100*accuracy/number))"
   ]
  },
  {
   "cell_type": "code",
   "execution_count": null,
   "metadata": {
    "id": "N-m3Vutb1laV"
   },
   "outputs": [],
   "source": [
    "from sklearn.metrics import confusion_matrix, ConfusionMatrixDisplay, classification_report\n",
    "cm = confusion_matrix(targets, predictions,normalize='true')"
   ]
  },
  {
   "cell_type": "code",
   "execution_count": null,
   "metadata": {
    "id": "3I16RB4l1mzk"
   },
   "outputs": [],
   "source": [
    "fig, axes = plt.subplots(nrows = 1, ncols = 1, figsize = (12,10))\n",
    "\n",
    "cmd = ConfusionMatrixDisplay(cm, display_labels=classes)\n",
    "cmd.plot(ax=axes, cmap='Blues', xticks_rotation='vertical')\n",
    "print('S2')\n",
    "print('Accuracy:', cm.diagonal(), 'mean: ', cm.diagonal().mean())\n",
    "print(classification_report(targets, predictions, target_names=classes, digits=4))\n",
    "axes.get_images()[0].set_clim(0, 1)\n",
    "plt.show()\n",
    "plt.close()"
   ]
  },
  {
   "cell_type": "code",
   "execution_count": null,
   "metadata": {
    "id": "mBJoclTMRqf2"
   },
   "outputs": [],
   "source": []
  }
 ],
 "metadata": {
  "colab": {
   "collapsed_sections": [],
   "name": "QCNN-RealAmplitudesCircuit.ipynb",
   "provenance": []
  },
  "kernelspec": {
   "display_name": "Python 3",
   "language": "python",
   "name": "python3"
  },
  "language_info": {
   "codemirror_mode": {
    "name": "ipython",
    "version": 3
   },
   "file_extension": ".py",
   "mimetype": "text/x-python",
   "name": "python",
   "nbconvert_exporter": "python",
   "pygments_lexer": "ipython3",
   "version": "3.8.10"
  }
 },
 "nbformat": 4,
 "nbformat_minor": 4
}
