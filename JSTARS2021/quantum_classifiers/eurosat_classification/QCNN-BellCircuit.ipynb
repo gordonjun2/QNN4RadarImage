{
 "cells": [
  {
   "cell_type": "code",
   "execution_count": null,
   "metadata": {
    "colab": {
     "base_uri": "https://localhost:8080/"
    },
    "executionInfo": {
     "elapsed": 32366,
     "status": "ok",
     "timestamp": 1625239572140,
     "user": {
      "displayName": "Alessandro Sebastianelli",
      "photoUrl": "https://lh3.googleusercontent.com/a-/AOh14GgVWBLvEG9yF5gq_rkIyj5MCLQv1OzgwlLWxu7e=s64",
      "userId": "16665723407518839496"
     },
     "user_tz": -120
    },
    "id": "uc2xlyNfycy6",
    "outputId": "d8f1a95b-61e3-44c7-8748-0071b8f58fd3",
    "scrolled": true
   },
   "outputs": [],
   "source": [
    "!pip uninstall qiskit\n",
    "!pip install qiskit==0.23.0\n",
    "!pip install pylatexenc"
   ]
  },
  {
   "cell_type": "code",
   "execution_count": 1,
   "metadata": {},
   "outputs": [
    {
     "name": "stderr",
     "output_type": "stream",
     "text": [
      "configrc.store_credentials:WARNING:2022-09-15 09:28:49,087: Credentials already present. Set overwrite=True to overwrite.\n"
     ]
    },
    {
     "name": "stdout",
     "output_type": "stream",
     "text": [
      "<AccountProvider for IBMQ(hub='ibm-q', group='open', project='main')> ibmq_qasm_simulator\n"
     ]
    }
   ],
   "source": [
    "import qiskit\n",
    "token = '3c648969b4c49d2521944ea0c52d2466348ca185619f2d642d3d12fc3caeb0118c0ac3724f078a784a4e81192decacad79a85d7503a27324ca880e00b2b61662'\n",
    "qiskit.IBMQ.save_account(token)\n",
    "account = qiskit.IBMQ.load_account()\n",
    "provider = qiskit.IBMQ.get_provider(hub='ibm-q')\n",
    "backend = provider.get_backend('ibmq_qasm_simulator')\n",
    "print(provider, backend)"
   ]
  },
  {
   "cell_type": "code",
   "execution_count": 2,
   "metadata": {
    "colab": {
     "base_uri": "https://localhost:8080/"
    },
    "executionInfo": {
     "elapsed": 9838,
     "status": "ok",
     "timestamp": 1625239581972,
     "user": {
      "displayName": "Alessandro Sebastianelli",
      "photoUrl": "https://lh3.googleusercontent.com/a-/AOh14GgVWBLvEG9yF5gq_rkIyj5MCLQv1OzgwlLWxu7e=s64",
      "userId": "16665723407518839496"
     },
     "user_tz": -120
    },
    "id": "mXsPVL2Qyt4G",
    "outputId": "dcbb4778-634d-4330-9fb6-bd68215b3d61"
   },
   "outputs": [
    {
     "name": "stdout",
     "output_type": "stream",
     "text": [
      "Running on the GPU\n"
     ]
    }
   ],
   "source": [
    "from qiskit import execute\n",
    "from qiskit.circuit import Parameter,ControlledGate\n",
    "from qiskit import Aer\n",
    "import qiskit\n",
    "import numpy as np\n",
    "from tqdm import tqdm\n",
    "from matplotlib import pyplot as plt\n",
    "%matplotlib inline\n",
    "import torch\n",
    "from torch.autograd import Function\n",
    "import torch.optim as optim\n",
    "import torch.nn as nn\n",
    "import torch.nn.functional as F\n",
    "\n",
    "\n",
    "if torch.cuda.is_available():\n",
    "  device = torch.device(\"cuda:0\")\n",
    "  print(\"Running on the GPU\")\n",
    "else:\n",
    "  device = torch.device(\"cpu\")\n",
    "  print(\"Running on the CPU\")"
   ]
  },
  {
   "cell_type": "code",
   "execution_count": 4,
   "metadata": {
    "executionInfo": {
     "elapsed": 12,
     "status": "ok",
     "timestamp": 1625239581974,
     "user": {
      "displayName": "Alessandro Sebastianelli",
      "photoUrl": "https://lh3.googleusercontent.com/a-/AOh14GgVWBLvEG9yF5gq_rkIyj5MCLQv1OzgwlLWxu7e=s64",
      "userId": "16665723407518839496"
     },
     "user_tz": -120
    },
    "id": "GLM7EOjvzYNa"
   },
   "outputs": [],
   "source": [
    "#np.random.seed = 314\n",
    "\n",
    "NUM_QUBITS = 4\n",
    "NUM_SHOTS = 800 #3000\n",
    "SHIFT = np.pi/4\n",
    "LEARNING_RATE = 0.0002\n",
    "MOMENTUM = 0.5\n",
    "\n",
    "SIMULATOR = Aer.get_backend('qasm_simulator')"
   ]
  },
  {
   "cell_type": "code",
   "execution_count": 5,
   "metadata": {
    "colab": {
     "base_uri": "https://localhost:8080/"
    },
    "executionInfo": {
     "elapsed": 12,
     "status": "ok",
     "timestamp": 1625239581975,
     "user": {
      "displayName": "Alessandro Sebastianelli",
      "photoUrl": "https://lh3.googleusercontent.com/a-/AOh14GgVWBLvEG9yF5gq_rkIyj5MCLQv1OzgwlLWxu7e=s64",
      "userId": "16665723407518839496"
     },
     "user_tz": -120
    },
    "id": "EjFSm0lgzbW2",
    "outputId": "4e9ee6dc-1eec-473a-f2ac-3875fbb45ce3"
   },
   "outputs": [
    {
     "name": "stdout",
     "output_type": "stream",
     "text": [
      "['0000', '0001', '0010', '0011', '0100', '0101', '0110', '0111', '1000', '1001', '1010', '1011', '1100', '1101', '1110', '1111']\n"
     ]
    }
   ],
   "source": [
    "# create list of all possible outputs of quantum circuit (2**NUM_QUBITS possible)\n",
    "import itertools\n",
    "def create_QC_OUTPUTS():\n",
    "    measurements = list(itertools.product([0, 1], repeat=NUM_QUBITS))\n",
    "    return [''.join([str(bit) for bit in measurement]) for measurement in measurements]\n",
    "\n",
    "QC_OUTPUTS = create_QC_OUTPUTS()\n",
    "print(QC_OUTPUTS)"
   ]
  },
  {
   "cell_type": "code",
   "execution_count": 6,
   "metadata": {
    "executionInfo": {
     "elapsed": 9,
     "status": "ok",
     "timestamp": 1625239581975,
     "user": {
      "displayName": "Alessandro Sebastianelli",
      "photoUrl": "https://lh3.googleusercontent.com/a-/AOh14GgVWBLvEG9yF5gq_rkIyj5MCLQv1OzgwlLWxu7e=s64",
      "userId": "16665723407518839496"
     },
     "user_tz": -120
    },
    "id": "MKJrEyNCzdX_"
   },
   "outputs": [],
   "source": [
    "class QiskitCircuit():\n",
    "    \n",
    "    def __init__(self, n_qubits, backend, shots):\n",
    "        # --- Circuit definition ---\n",
    "        self.circuit = qiskit.QuantumCircuit(n_qubits)\n",
    "        self.n_qubits = n_qubits\n",
    "        self.thetas = {k : Parameter('Theta'+str(k))for k in range(self.n_qubits)}\n",
    "\n",
    "        self.circuit.h(0)\n",
    "        self.circuit.cx(1, 0)\n",
    "        self.circuit.cx(2, 1)\n",
    "        self.circuit.cx(3, 2)\n",
    "\n",
    "        self.circuit.barrier()\n",
    "\n",
    "        for k in range(0, 4):\n",
    "            self.circuit.ry(self.thetas[k], k)\n",
    "\n",
    "        self.circuit.barrier()\n",
    "\n",
    "        self.circuit.cx(3, 2)\n",
    "        self.circuit.cx(2, 1)\n",
    "        self.circuit.cx(1, 0)\n",
    "        self.circuit.h(0)\n",
    "\n",
    "        self.circuit.measure_all()\n",
    "        # ---------------------------\n",
    "        \n",
    "        self.backend = backend\n",
    "        self.shots = shots\n",
    "        \n",
    "        \n",
    "    def N_qubit_expectation_Z(self,counts, shots, nr_qubits):\n",
    "        expects = np.zeros(len(QC_OUTPUTS))\n",
    "        for k in range(len(QC_OUTPUTS)):\n",
    "            key = QC_OUTPUTS[k]\n",
    "            perc = counts.get(key, 0)/shots\n",
    "            expects[k] = perc\n",
    "        return expects\n",
    "    \n",
    "    def run(self, i):\n",
    "        params = i\n",
    "        #print('params = {}'.format(len(params)))\n",
    "        backend = Aer.get_backend('qasm_simulator')\n",
    "    \n",
    "        job_sim = execute(self.circuit,\n",
    "                              self.backend,\n",
    "                              shots=self.shots,\n",
    "                              parameter_binds = [{self.thetas[k] : params[k].item() for k in range(1*NUM_QUBITS)}])\n",
    "#         \n",
    "        result_sim = job_sim.result()\n",
    "        counts = result_sim.get_counts(self.circuit)\n",
    "        return self.N_qubit_expectation_Z(counts, self.shots, NUM_QUBITS)"
   ]
  },
  {
   "cell_type": "code",
   "execution_count": 7,
   "metadata": {
    "colab": {
     "base_uri": "https://localhost:8080/",
     "height": 276
    },
    "executionInfo": {
     "elapsed": 681,
     "status": "ok",
     "timestamp": 1625239582648,
     "user": {
      "displayName": "Alessandro Sebastianelli",
      "photoUrl": "https://lh3.googleusercontent.com/a-/AOh14GgVWBLvEG9yF5gq_rkIyj5MCLQv1OzgwlLWxu7e=s64",
      "userId": "16665723407518839496"
     },
     "user_tz": -120
    },
    "id": "Afi3vEahKBVU",
    "outputId": "f1b3e619-e0d1-4baa-a432-364a57d57bf0"
   },
   "outputs": [
    {
     "name": "stderr",
     "output_type": "stream",
     "text": [
      "/opt/conda/lib/python3.8/site-packages/qiskit/circuit/tools/pi_check.py:49: SymPyDeprecationWarning: \n",
      "\n",
      "The expr_free_symbols property is deprecated. Use free_symbols to get\n",
      "the free symbols of an expression.\n",
      "\n",
      "See https://docs.sympy.org/latest/explanation/active-deprecations.html#deprecated-expr-free-symbols\n",
      "for details.\n",
      "\n",
      "This has been deprecated since SymPy version 1.9. It\n",
      "will be removed in a future version of SymPy.\n",
      "\n",
      "  syms = inpt._symbol_expr.expr_free_symbols\n"
     ]
    },
    {
     "data": {
      "image/png": "[encoded data removed]",
      "text/plain": [
       "<Figure size 1080.08x325.08 with 1 Axes>"
      ]
     },
     "execution_count": 7,
     "metadata": {},
     "output_type": "execute_result"
    },
    {
     "data": {
      "image/png": "[encoded data removed]",
      "text/plain": [
       "<Figure size 1080.08x325.08 with 1 Axes>"
      ]
     },
     "metadata": {},
     "output_type": "display_data"
    }
   ],
   "source": [
    "circuit = QiskitCircuit(NUM_QUBITS, SIMULATOR, NUM_SHOTS)\n",
    "#print('Expected value for rotation [pi/4]: {}'.format(circuit.run(torch.Tensor([np.pi/4]*NUM_QUBITS))))\n",
    "circuit.circuit.draw(output='mpl')#, filename='Figures/{}-qubit circuit ryN.jpg'.format(NUM_QUBITS)"
   ]
  },
  {
   "cell_type": "code",
   "execution_count": 8,
   "metadata": {
    "executionInfo": {
     "elapsed": 532,
     "status": "ok",
     "timestamp": 1625239583174,
     "user": {
      "displayName": "Alessandro Sebastianelli",
      "photoUrl": "https://lh3.googleusercontent.com/a-/AOh14GgVWBLvEG9yF5gq_rkIyj5MCLQv1OzgwlLWxu7e=s64",
      "userId": "16665723407518839496"
     },
     "user_tz": -120
    },
    "id": "_zDbKVw5zhWo"
   },
   "outputs": [],
   "source": [
    "class TorchCircuit(Function):    \n",
    "\n",
    "    @staticmethod\n",
    "    def forward(ctx, i):\n",
    "        if not hasattr(ctx, 'QiskitCirc'):\n",
    "            ctx.QiskitCirc = QiskitCircuit(NUM_QUBITS, SIMULATOR, shots=NUM_SHOTS)\n",
    "            \n",
    "        exp_value = ctx.QiskitCirc.run(i)\n",
    "        \n",
    "        result = torch.tensor([exp_value], device = device)\n",
    "  \n",
    "        ctx.save_for_backward(result, i)\n",
    "        \n",
    "        return result\n",
    "    \n",
    "    @staticmethod\n",
    "    def backward(ctx, grad_output):\n",
    "        \n",
    "        forward_tensor, i = ctx.saved_tensors\n",
    "#         print('forward_tensor = {}'.format(forward_tensor))\n",
    "        input_numbers = i\n",
    "#         print('input_numbers = {}'.format(input_numbers))\n",
    "        gradients = torch.Tensor().to(device)\n",
    "        \n",
    "        for k in range(1*NUM_QUBITS):\n",
    "            shift_right = input_numbers.detach().clone()\n",
    "            shift_right[k] = shift_right[k] + SHIFT\n",
    "            shift_left = input_numbers.detach().clone()\n",
    "            shift_left[k] = shift_left[k] - SHIFT\n",
    "            \n",
    "#             print('shift_right = {}, shift_left = {}'.format(shift_right, shift_left))\n",
    "            \n",
    "            expectation_right = ctx.QiskitCirc.run(shift_right)\n",
    "            expectation_left  = ctx.QiskitCirc.run(shift_left)\n",
    "#             print('expectation_right = {}, \\nexpectation_left = {}'.format(expectation_right, expectation_left))\n",
    "            \n",
    "            gradient = torch.tensor([expectation_right], device = device) - torch.tensor([expectation_left], device = device)\n",
    "            # rescale gradient\n",
    "#             gradient = gradient / torch.norm(gradient)\n",
    "#             print('gradient for k={}: {}'.format(k, gradient))\n",
    "            gradients = torch.cat((gradients, gradient.float()))\n",
    "            \n",
    "        result = gradients.detach().clone()\n",
    "#         print('gradients = {}'.format(result))\n",
    "#         print('grad_output = {}'.format(grad_output))\n",
    "\n",
    "        return (result.float() * grad_output.float()).T"
   ]
  },
  {
   "cell_type": "code",
   "execution_count": 9,
   "metadata": {
    "executionInfo": {
     "elapsed": 7,
     "status": "ok",
     "timestamp": 1625239583175,
     "user": {
      "displayName": "Alessandro Sebastianelli",
      "photoUrl": "https://lh3.googleusercontent.com/a-/AOh14GgVWBLvEG9yF5gq_rkIyj5MCLQv1OzgwlLWxu7e=s64",
      "userId": "16665723407518839496"
     },
     "user_tz": -120
    },
    "id": "cjTZRiru0eKr"
   },
   "outputs": [],
   "source": [
    "import sys\n",
    "sys.path.append('/home/jovyan/QNN4RadarImage/')"
   ]
  },
  {
   "cell_type": "code",
   "execution_count": 10,
   "metadata": {
    "executionInfo": {
     "elapsed": 2305,
     "status": "ok",
     "timestamp": 1625239585475,
     "user": {
      "displayName": "Alessandro Sebastianelli",
      "photoUrl": "https://lh3.googleusercontent.com/a-/AOh14GgVWBLvEG9yF5gq_rkIyj5MCLQv1OzgwlLWxu7e=s64",
      "userId": "16665723407518839496"
     },
     "user_tz": -120
    },
    "id": "An1kDAd-0f1q"
   },
   "outputs": [],
   "source": [
    "from DatasetHandler import DatasetHandler\n",
    "dataset_root = '/home/jovyan/QNN4RadarImage/datasets/EuroSAT/'\n",
    "handler = DatasetHandler(dataset_root)"
   ]
  },
  {
   "cell_type": "code",
   "execution_count": 11,
   "metadata": {
    "colab": {
     "base_uri": "https://localhost:8080/"
    },
    "executionInfo": {
     "elapsed": 4,
     "status": "ok",
     "timestamp": 1625239585476,
     "user": {
      "displayName": "Alessandro Sebastianelli",
      "photoUrl": "https://lh3.googleusercontent.com/a-/AOh14GgVWBLvEG9yF5gq_rkIyj5MCLQv1OzgwlLWxu7e=s64",
      "userId": "16665723407518839496"
     },
     "user_tz": -120
    },
    "id": "YcZfoXab0hDP",
    "outputId": "5cf397fb-ac14-4c04-f40d-66153db3452f"
   },
   "outputs": [
    {
     "data": {
      "text/plain": [
       "['AnnualCrop',\n",
       " 'Forest',\n",
       " 'HerbaceousVegetation',\n",
       " 'Highway',\n",
       " 'Industrial',\n",
       " 'Pasture',\n",
       " 'PermanentCrop',\n",
       " 'Residential',\n",
       " 'River',\n",
       " 'SeaLake']"
      ]
     },
     "execution_count": 11,
     "metadata": {},
     "output_type": "execute_result"
    }
   ],
   "source": [
    "classes = []\n",
    "for i, c in enumerate(handler.classes):\n",
    "  cl = c.split('/')[-1]\n",
    "  classes.append(cl)\n",
    "classes.sort()\n",
    "classes"
   ]
  },
  {
   "cell_type": "code",
   "execution_count": 12,
   "metadata": {
    "colab": {
     "base_uri": "https://localhost:8080/"
    },
    "executionInfo": {
     "elapsed": 46070,
     "status": "ok",
     "timestamp": 1625239631543,
     "user": {
      "displayName": "Alessandro Sebastianelli",
      "photoUrl": "https://lh3.googleusercontent.com/a-/AOh14GgVWBLvEG9yF5gq_rkIyj5MCLQv1OzgwlLWxu7e=s64",
      "userId": "16665723407518839496"
     },
     "user_tz": -120
    },
    "id": "tTMKedxr0tCP",
    "outputId": "679dd53b-47c6-4eea-e57d-3a55e8e25734"
   },
   "outputs": [
    {
     "name": "stdout",
     "output_type": "stream",
     "text": [
      "Dataset images: 27000 Dataset labels: 27000\n",
      "Dataset sample -> /home/jovyan/QNN4RadarImage/datasets/EuroSAT/HerbaceousVegetation/HerbaceousVegetation_1463.jpg 2\n"
     ]
    }
   ],
   "source": [
    "imgs_path, imgs_label = handler.load_paths_labels(dataset_root, classes=classes)\n",
    "print('Dataset images:', len(imgs_path), 'Dataset labels:', len(imgs_label))\n",
    "print('Dataset sample ->', imgs_path[0], imgs_label[0])"
   ]
  },
  {
   "cell_type": "code",
   "execution_count": 13,
   "metadata": {
    "colab": {
     "base_uri": "https://localhost:8080/"
    },
    "executionInfo": {
     "elapsed": 21,
     "status": "ok",
     "timestamp": 1625239631544,
     "user": {
      "displayName": "Alessandro Sebastianelli",
      "photoUrl": "https://lh3.googleusercontent.com/a-/AOh14GgVWBLvEG9yF5gq_rkIyj5MCLQv1OzgwlLWxu7e=s64",
      "userId": "16665723407518839496"
     },
     "user_tz": -120
    },
    "id": "Ku3ztjPT0urb",
    "outputId": "5642afe1-a70d-427a-f600-d90b19dcff13"
   },
   "outputs": [
    {
     "name": "stdout",
     "output_type": "stream",
     "text": [
      "X_train shape: (21600,) Y_train shape: (21600,)\n",
      "  X_val shape:  (5400,)   Y_val shape:  (5400,)\n"
     ]
    }
   ],
   "source": [
    "train_imgs, train_labels, val_images, val_labels = handler.train_validation_split(imgs_path, imgs_label, split_factor=0.2)\n",
    "print('X_train shape:', train_imgs.shape, 'Y_train shape:', train_labels.shape)\n",
    "print('  X_val shape: ', val_images.shape, '  Y_val shape: ', val_labels.shape)"
   ]
  },
  {
   "cell_type": "code",
   "execution_count": 14,
   "metadata": {
    "executionInfo": {
     "elapsed": 17,
     "status": "ok",
     "timestamp": 1625239631546,
     "user": {
      "displayName": "Alessandro Sebastianelli",
      "photoUrl": "https://lh3.googleusercontent.com/a-/AOh14GgVWBLvEG9yF5gq_rkIyj5MCLQv1OzgwlLWxu7e=s64",
      "userId": "16665723407518839496"
     },
     "user_tz": -120
    },
    "id": "InesYmyx0wgc"
   },
   "outputs": [],
   "source": [
    "class Net(nn.Module):\n",
    "    def __init__(self):\n",
    "        super(Net, self).__init__()\n",
    "        self.conv1 = nn.Conv2d(3, 16, kernel_size=3)\n",
    "        self.conv2 = nn.Conv2d(16, 32, kernel_size=3)\n",
    "        self.conv3 = nn.Conv2d(32, 64, kernel_size=3)\n",
    "\n",
    "        #self.conv2_drop = nn.Dropout2d()\n",
    "\n",
    "        self.fc1 = nn.Linear(2304, 120)\n",
    "        self.fc2 = nn.Linear(120, 84)\n",
    "        self.fc3 = nn.Linear(84, 42)\n",
    "\n",
    "        self.fc4 = nn.Linear(2304, 1*NUM_QUBITS)\n",
    "        \n",
    "        self.qc = TorchCircuit.apply\n",
    "\n",
    "        self.fc5 = nn.Linear(16, 10)\n",
    "\n",
    "    def forward(self, x):\n",
    "        x = F.relu(F.max_pool2d(self.conv1(x), 2))\n",
    "        x = F.relu(F.max_pool2d(self.conv2(x), 2))\n",
    "        x = F.relu(F.max_pool2d(self.conv3(x), 2))\n",
    "\n",
    "        x = x.view(-1, 2304)\n",
    "        #x = F.relu(self.fc1(x))\n",
    "        #x = F.dropout(x, training=self.training)\n",
    "        #x = F.relu(self.fc2(x))\n",
    "\n",
    "        #x = F.relu(self.fc3(x))\n",
    "\n",
    "        x = self.fc4(x)\n",
    "        x = np.pi*torch.tanh(x)\n",
    "        \n",
    "        x = self.qc(x[0]) # QUANTUM LAYER\n",
    "        \n",
    "        x = F.relu(x)\n",
    "        #print('output of QC = {}'.format(x))\n",
    "        \n",
    "#         # softmax rather than sigmoid\n",
    "        x = self.fc5(x.float())\n",
    "        #print('output of Linear(1, 2): {}'.format(x))\n",
    "        x = F.softmax(x, 1)\n",
    "\n",
    "        #x = torch.sigmoid(x)\n",
    "        #x = torch.cat((x, 1-x), -1)\n",
    "        return x\n",
    "    \n",
    "    \n",
    "    def predict(self, x):\n",
    "        # apply softmax\n",
    "        pred = self.forward(x)\n",
    "#         print(pred)\n",
    "        ans = torch.argmax(pred[0]).item()\n",
    "        return torch.tensor(ans, device = device)\n",
    "    \n",
    "network = Net().to(device)\n",
    "optimizer = optim.Adam(network.parameters(), lr=0.0002)"
   ]
  },
  {
   "cell_type": "code",
   "execution_count": 15,
   "metadata": {
    "executionInfo": {
     "elapsed": 16,
     "status": "ok",
     "timestamp": 1625239631547,
     "user": {
      "displayName": "Alessandro Sebastianelli",
      "photoUrl": "https://lh3.googleusercontent.com/a-/AOh14GgVWBLvEG9yF5gq_rkIyj5MCLQv1OzgwlLWxu7e=s64",
      "userId": "16665723407518839496"
     },
     "user_tz": -120
    },
    "id": "8oMzCmz11PVo"
   },
   "outputs": [],
   "source": [
    "from sklearn.metrics import confusion_matrix, ConfusionMatrixDisplay, classification_report\n",
    "\n",
    "#from torchsummary import summary\n",
    "#summary(network, (3, 64, 64))"
   ]
  },
  {
   "cell_type": "code",
   "execution_count": 16,
   "metadata": {
    "executionInfo": {
     "elapsed": 16,
     "status": "ok",
     "timestamp": 1625239631548,
     "user": {
      "displayName": "Alessandro Sebastianelli",
      "photoUrl": "https://lh3.googleusercontent.com/a-/AOh14GgVWBLvEG9yF5gq_rkIyj5MCLQv1OzgwlLWxu7e=s64",
      "userId": "16665723407518839496"
     },
     "user_tz": -120
    },
    "id": "hxkBEGs401rE"
   },
   "outputs": [],
   "source": [
    "train_loader = iter(handler.qcnn_data_loader(train_imgs, train_labels, batch_size = 1, img_shape = (64,64,3)))\n",
    "test_loader = iter(handler.qcnn_data_loader(val_images, val_labels, batch_size = 1, img_shape = (64,64,3)))"
   ]
  },
  {
   "cell_type": "code",
   "execution_count": null,
   "metadata": {
    "executionInfo": {
     "elapsed": 772,
     "status": "ok",
     "timestamp": 1625239632307,
     "user": {
      "displayName": "Alessandro Sebastianelli",
      "photoUrl": "https://lh3.googleusercontent.com/a-/AOh14GgVWBLvEG9yF5gq_rkIyj5MCLQv1OzgwlLWxu7e=s64",
      "userId": "16665723407518839496"
     },
     "user_tz": -120
    },
    "id": "IhLeUsW1_WpK"
   },
   "outputs": [],
   "source": [
    "# checkpoint = torch.load('/content/drive/MyDrive/QAI4EO/model-bell-2.pt')\n",
    "# checkpoint = torch.load('/home/jovyan/QNN4RadarImage/JSTARS2021/quantum_classifiers/eurosat_classification/saved_models/model-bell-2.pt', map_location=device)\n",
    "checkpoint = torch.load('/home/jovyan/QNN4RadarImage/JSTARS2021/quantum_classifiers/eurosat_classification/saved_models_new/model-bell-2.pt', map_location=device)\n",
    "network.load_state_dict(checkpoint['model_state_dict'])\n",
    "optimizer.load_state_dict(checkpoint['optimizer_state_dict'])\n",
    "epoch = checkpoint['epoch']\n",
    "loss = checkpoint['loss']"
   ]
  },
  {
   "cell_type": "code",
   "execution_count": 17,
   "metadata": {
    "colab": {
     "base_uri": "https://localhost:8080/"
    },
    "id": "nUoZidbl05zA",
    "outputId": "29264fda-5eb3-4ac2-fc22-1032f67a0485"
   },
   "outputs": [
    {
     "name": "stdout",
     "output_type": "stream",
     "text": [
      " Epoch 0 ~ Batch 21599 (21599) ~ Loss 2.292982 \t\tTraining [2%]\t Training Loss: 2.2588 Validation Loss: 2.2262\n",
      " Epoch 1 ~ Batch 21599 (21599) ~ Loss 2.336291 \t\tTraining [4%]\t Training Loss: 2.1990 Validation Loss: 2.1550\n",
      "[[0.0053286  0.09236234 0.68383659 0.         0.0017762  0.\n",
      "  0.         0.12611012 0.         0.09058615]\n",
      " [0.         0.99174917 0.         0.         0.         0.\n",
      "  0.         0.         0.         0.00825083]\n",
      " [0.         0.03040541 0.58614865 0.         0.01013514 0.\n",
      "  0.         0.29560811 0.         0.0777027 ]\n",
      " [0.01221996 0.00814664 0.20366599 0.         0.05906314 0.\n",
      "  0.         0.6802444  0.         0.03665988]\n",
      " [0.         0.         0.         0.         0.92936803 0.\n",
      "  0.         0.07063197 0.         0.        ]\n",
      " [0.00490196 0.51715686 0.26470588 0.         0.         0.\n",
      "  0.         0.02696078 0.         0.18627451]\n",
      " [0.         0.00195312 0.39257812 0.         0.01757812 0.\n",
      "  0.         0.58789062 0.         0.        ]\n",
      " [0.         0.         0.         0.         0.08359621 0.\n",
      "  0.         0.91640379 0.         0.        ]\n",
      " [0.00205339 0.17043121 0.30595483 0.         0.04517454 0.\n",
      "  0.         0.3613963  0.         0.11498973]\n",
      " [0.         0.94551845 0.01405975 0.         0.00351494 0.\n",
      "  0.         0.         0.         0.03690685]]\n",
      "                      precision    recall  f1-score   support\n",
      "\n",
      "          AnnualCrop     0.2500    0.0053    0.0104       563\n",
      "              Forest     0.3985    0.9917    0.5686       606\n",
      "HerbaceousVegetation     0.2673    0.5861    0.3672       592\n",
      "             Highway     0.0000    0.0000    0.0000       491\n",
      "          Industrial     0.8039    0.9294    0.8621       538\n",
      "             Pasture     0.0000    0.0000    0.0000       408\n",
      "       PermanentCrop     0.0000    0.0000    0.0000       512\n",
      "         Residential     0.3444    0.9164    0.5006       634\n",
      "               River     0.0000    0.0000    0.0000       487\n",
      "             SeaLake     0.0769    0.0369    0.0499       569\n",
      "\n",
      "            accuracy                         0.3802      5400\n",
      "           macro avg     0.2141    0.3466    0.2359      5400\n",
      "        weighted avg     0.2287    0.3802    0.2551      5400\n",
      "\n",
      " Epoch 2 ~ Batch 0 (21599) ~ Loss 2.329507 \t\t"
     ]
    },
    {
     "name": "stderr",
     "output_type": "stream",
     "text": [
      "/opt/conda/lib/python3.8/site-packages/sklearn/metrics/_classification.py:1248: UndefinedMetricWarning: Precision and F-score are ill-defined and being set to 0.0 in labels with no predicted samples. Use `zero_division` parameter to control this behavior.\n",
      "  _warn_prf(average, modifier, msg_start, len(result))\n",
      "/opt/conda/lib/python3.8/site-packages/sklearn/metrics/_classification.py:1248: UndefinedMetricWarning: Precision and F-score are ill-defined and being set to 0.0 in labels with no predicted samples. Use `zero_division` parameter to control this behavior.\n",
      "  _warn_prf(average, modifier, msg_start, len(result))\n",
      "/opt/conda/lib/python3.8/site-packages/sklearn/metrics/_classification.py:1248: UndefinedMetricWarning: Precision and F-score are ill-defined and being set to 0.0 in labels with no predicted samples. Use `zero_division` parameter to control this behavior.\n",
      "  _warn_prf(average, modifier, msg_start, len(result))\n"
     ]
    },
    {
     "name": "stdout",
     "output_type": "stream",
     "text": [
      " Epoch 2 ~ Batch 21599 (21599) ~ Loss 1.762461 \t\tTraining [6%]\t Training Loss: 2.1286 Validation Loss: 2.1005\n",
      " Epoch 3 ~ Batch 21599 (21599) ~ Loss 2.411288 \t\tTraining [8%]\t Training Loss: 2.0637 Validation Loss: 2.0258\n",
      " Epoch 4 ~ Batch 21599 (21599) ~ Loss 2.439612 \t\tTraining [10%]\t Training Loss: 2.0126 Validation Loss: 1.9931\n",
      "[[0.90875912 0.05291971 0.         0.         0.         0.\n",
      "  0.         0.         0.         0.03832117]\n",
      " [0.00165563 0.80960265 0.         0.         0.         0.\n",
      "  0.         0.         0.         0.18874172]\n",
      " [0.78267717 0.06299213 0.         0.         0.00472441 0.\n",
      "  0.         0.1007874  0.         0.0488189 ]\n",
      " [0.56653992 0.12547529 0.         0.         0.05703422 0.\n",
      "  0.         0.2338403  0.         0.01711027]\n",
      " [0.01577909 0.         0.         0.         0.78106509 0.\n",
      "  0.         0.20315582 0.         0.        ]\n",
      " [0.33157895 0.46842105 0.         0.         0.         0.\n",
      "  0.         0.         0.         0.2       ]\n",
      " [0.91106291 0.01301518 0.         0.         0.0021692  0.\n",
      "  0.         0.07375271 0.         0.        ]\n",
      " [0.00310078 0.         0.         0.         0.00775194 0.\n",
      "  0.         0.98914729 0.         0.        ]\n",
      " [0.48870637 0.34907598 0.         0.         0.04106776 0.\n",
      "  0.         0.07597536 0.         0.04517454]\n",
      " [0.01976936 0.11202636 0.         0.         0.         0.\n",
      "  0.         0.         0.         0.86820428]]\n",
      "                      precision    recall  f1-score   support\n",
      "\n",
      "          AnnualCrop     0.2371    0.9088    0.3761       548\n",
      "              Forest     0.4675    0.8096    0.5927       604\n",
      "HerbaceousVegetation     0.0000    0.0000    0.0000       635\n",
      "             Highway     0.0000    0.0000    0.0000       526\n",
      "          Industrial     0.8703    0.7811    0.8233       507\n",
      "             Pasture     0.0000    0.0000    0.0000       380\n",
      "       PermanentCrop     0.0000    0.0000    0.0000       461\n",
      "         Residential     0.6386    0.9891    0.7762       645\n",
      "               River     0.0000    0.0000    0.0000       487\n",
      "             SeaLake     0.6587    0.8682    0.7491       607\n",
      "\n",
      "            accuracy                         0.4719      5400\n",
      "           macro avg     0.2872    0.4357    0.3317      5400\n",
      "        weighted avg     0.3084    0.4719    0.3587      5400\n",
      "\n",
      " Epoch 5 ~ Batch 1 (21599) ~ Loss 1.534755 \t\t"
     ]
    },
    {
     "name": "stderr",
     "output_type": "stream",
     "text": [
      "/opt/conda/lib/python3.8/site-packages/sklearn/metrics/_classification.py:1248: UndefinedMetricWarning: Precision and F-score are ill-defined and being set to 0.0 in labels with no predicted samples. Use `zero_division` parameter to control this behavior.\n",
      "  _warn_prf(average, modifier, msg_start, len(result))\n",
      "/opt/conda/lib/python3.8/site-packages/sklearn/metrics/_classification.py:1248: UndefinedMetricWarning: Precision and F-score are ill-defined and being set to 0.0 in labels with no predicted samples. Use `zero_division` parameter to control this behavior.\n",
      "  _warn_prf(average, modifier, msg_start, len(result))\n",
      "/opt/conda/lib/python3.8/site-packages/sklearn/metrics/_classification.py:1248: UndefinedMetricWarning: Precision and F-score are ill-defined and being set to 0.0 in labels with no predicted samples. Use `zero_division` parameter to control this behavior.\n",
      "  _warn_prf(average, modifier, msg_start, len(result))\n"
     ]
    },
    {
     "name": "stdout",
     "output_type": "stream",
     "text": [
      " Epoch 5 ~ Batch 16594 (21599) ~ Loss 1.514604 \t\t"
     ]
    },
    {
     "name": "stderr",
     "output_type": "stream",
     "text": [
      "IOPub message rate exceeded.\n",
      "The Jupyter server will temporarily stop sending output\n",
      "to the client in order to avoid crashing it.\n",
      "To change this limit, set the config variable\n",
      "`--ServerApp.iopub_msg_rate_limit`.\n",
      "\n",
      "Current values:\n",
      "ServerApp.iopub_msg_rate_limit=1000.0 (msgs/sec)\n",
      "ServerApp.rate_limit_window=3.0 (secs)\n",
      "\n"
     ]
    },
    {
     "name": "stdout",
     "output_type": "stream",
     "text": [
      " Epoch 8 ~ Batch 16743 (21599) ~ Loss 1.478347 \t\t"
     ]
    },
    {
     "name": "stderr",
     "output_type": "stream",
     "text": [
      "IOPub message rate exceeded.\n",
      "The Jupyter server will temporarily stop sending output\n",
      "to the client in order to avoid crashing it.\n",
      "To change this limit, set the config variable\n",
      "`--ServerApp.iopub_msg_rate_limit`.\n",
      "\n",
      "Current values:\n",
      "ServerApp.iopub_msg_rate_limit=1000.0 (msgs/sec)\n",
      "ServerApp.rate_limit_window=3.0 (secs)\n",
      "\n"
     ]
    },
    {
     "name": "stdout",
     "output_type": "stream",
     "text": [
      " Epoch 11 ~ Batch 16717 (21599) ~ Loss 1.671653 \t\t"
     ]
    },
    {
     "name": "stderr",
     "output_type": "stream",
     "text": [
      "IOPub message rate exceeded.\n",
      "The Jupyter server will temporarily stop sending output\n",
      "to the client in order to avoid crashing it.\n",
      "To change this limit, set the config variable\n",
      "`--ServerApp.iopub_msg_rate_limit`.\n",
      "\n",
      "Current values:\n",
      "ServerApp.iopub_msg_rate_limit=1000.0 (msgs/sec)\n",
      "ServerApp.rate_limit_window=3.0 (secs)\n",
      "\n"
     ]
    },
    {
     "name": "stdout",
     "output_type": "stream",
     "text": [
      " Epoch 13 ~ Batch 21599 (21599) ~ Loss 1.481861 \t\tTraining [28%]\t Training Loss: 1.7352 Validation Loss: 1.7943\n",
      "[[0.72837022 0.01810865 0.03420523 0.00804829 0.00201207 0.\n",
      "  0.06841046 0.01207243 0.10462777 0.02414487]\n",
      " [0.         0.58513932 0.03250774 0.         0.         0.\n",
      "  0.         0.         0.01083591 0.37151703]\n",
      " [0.         0.00153846 0.76615385 0.04       0.00615385 0.\n",
      "  0.08       0.09692308 0.00923077 0.        ]\n",
      " [0.01351351 0.01158301 0.06756757 0.68146718 0.06949807 0.\n",
      "  0.03667954 0.07528958 0.04440154 0.        ]\n",
      " [0.00192308 0.         0.         0.00192308 0.86346154 0.\n",
      "  0.00576923 0.125      0.00192308 0.        ]\n",
      " [0.005      0.2        0.165      0.1475     0.         0.\n",
      "  0.0425     0.0025     0.3575     0.08      ]\n",
      " [0.06352459 0.00204918 0.42827869 0.06352459 0.02254098 0.\n",
      "  0.33606557 0.04098361 0.04303279 0.        ]\n",
      " [0.         0.         0.         0.00152439 0.01676829 0.\n",
      "  0.00152439 0.98018293 0.         0.        ]\n",
      " [0.0210084  0.0210084  0.03361345 0.19117647 0.02521008 0.\n",
      "  0.03151261 0.00630252 0.66176471 0.00840336]\n",
      " [0.00546448 0.01457195 0.00364299 0.         0.         0.\n",
      "  0.00546448 0.         0.02185792 0.94899818]]\n",
      "                      precision    recall  f1-score   support\n",
      "\n",
      "          AnnualCrop     0.8702    0.7284    0.7930       497\n",
      "              Forest     0.7667    0.5851    0.6637       646\n",
      "HerbaceousVegetation     0.5764    0.7662    0.6579       650\n",
      "             Highway     0.6237    0.6815    0.6513       518\n",
      "          Industrial     0.8569    0.8635    0.8602       520\n",
      "             Pasture     0.0000    0.0000    0.0000       400\n",
      "       PermanentCrop     0.5325    0.3361    0.4121       488\n",
      "         Residential     0.7655    0.9802    0.8596       656\n",
      "               River     0.5431    0.6618    0.5966       476\n",
      "             SeaLake     0.6440    0.9490    0.7673       549\n",
      "\n",
      "            accuracy                         0.6820      5400\n",
      "           macro avg     0.6179    0.6552    0.6262      5400\n",
      "        weighted avg     0.6380    0.6820    0.6491      5400\n",
      "\n",
      " Epoch 14 ~ Batch 1 (21599) ~ Loss 2.438705 \t\t"
     ]
    },
    {
     "name": "stderr",
     "output_type": "stream",
     "text": [
      "/opt/conda/lib/python3.8/site-packages/sklearn/metrics/_classification.py:1248: UndefinedMetricWarning: Precision and F-score are ill-defined and being set to 0.0 in labels with no predicted samples. Use `zero_division` parameter to control this behavior.\n",
      "  _warn_prf(average, modifier, msg_start, len(result))\n",
      "/opt/conda/lib/python3.8/site-packages/sklearn/metrics/_classification.py:1248: UndefinedMetricWarning: Precision and F-score are ill-defined and being set to 0.0 in labels with no predicted samples. Use `zero_division` parameter to control this behavior.\n",
      "  _warn_prf(average, modifier, msg_start, len(result))\n",
      "/opt/conda/lib/python3.8/site-packages/sklearn/metrics/_classification.py:1248: UndefinedMetricWarning: Precision and F-score are ill-defined and being set to 0.0 in labels with no predicted samples. Use `zero_division` parameter to control this behavior.\n",
      "  _warn_prf(average, modifier, msg_start, len(result))\n"
     ]
    },
    {
     "name": "stdout",
     "output_type": "stream",
     "text": [
      " Epoch 14 ~ Batch 9189 (21599) ~ Loss 1.522728 \t\t"
     ]
    },
    {
     "name": "stderr",
     "output_type": "stream",
     "text": [
      "IOPub message rate exceeded.\n",
      "The Jupyter server will temporarily stop sending output\n",
      "to the client in order to avoid crashing it.\n",
      "To change this limit, set the config variable\n",
      "`--ServerApp.iopub_msg_rate_limit`.\n",
      "\n",
      "Current values:\n",
      "ServerApp.iopub_msg_rate_limit=1000.0 (msgs/sec)\n",
      "ServerApp.rate_limit_window=3.0 (secs)\n",
      "\n"
     ]
    },
    {
     "name": "stdout",
     "output_type": "stream",
     "text": [
      " Epoch 16 ~ Batch 21599 (21599) ~ Loss 1.655195 \t\tTraining [34%]\t Training Loss: 1.7019 Validation Loss: 1.7169\n",
      "[[0.8657845  0.01323251 0.00189036 0.00189036 0.00567108 0.\n",
      "  0.07561437 0.         0.03213611 0.00378072]\n",
      " [0.         0.93264249 0.00863558 0.         0.         0.\n",
      "  0.00345423 0.         0.02763385 0.02763385]\n",
      " [0.0066335  0.01160862 0.68325041 0.05804312 0.01160862 0.\n",
      "  0.15422886 0.01658375 0.05472637 0.00331675]\n",
      " [0.02680412 0.         0.01030928 0.70927835 0.05360825 0.\n",
      "  0.10515464 0.01030928 0.08453608 0.        ]\n",
      " [0.         0.         0.         0.00366972 0.95779817 0.\n",
      "  0.01284404 0.0146789  0.01100917 0.        ]\n",
      " [0.15308642 0.24938272 0.07407407 0.01234568 0.00246914 0.\n",
      "  0.14814815 0.         0.31851852 0.04197531]\n",
      " [0.13069307 0.0039604  0.13663366 0.04752475 0.01188119 0.\n",
      "  0.61782178 0.         0.05148515 0.        ]\n",
      " [0.00310078 0.         0.00620155 0.00310078 0.08217054 0.\n",
      "  0.00620155 0.89767442 0.00155039 0.        ]\n",
      " [0.08080808 0.0020202  0.00808081 0.06262626 0.02828283 0.\n",
      "  0.01818182 0.         0.7979798  0.0020202 ]\n",
      " [0.01970443 0.03284072 0.         0.         0.         0.\n",
      "  0.00164204 0.         0.02791461 0.91789819]]\n",
      "                      precision    recall  f1-score   support\n",
      "\n",
      "          AnnualCrop     0.6971    0.8658    0.7723       529\n",
      "              Forest     0.7965    0.9326    0.8592       579\n",
      "HerbaceousVegetation     0.7774    0.6833    0.7273       603\n",
      "             Highway     0.7748    0.7093    0.7406       485\n",
      "          Industrial     0.8259    0.9578    0.8870       545\n",
      "             Pasture     0.0000    0.0000    0.0000       405\n",
      "       PermanentCrop     0.5389    0.6178    0.5756       505\n",
      "         Residential     0.9618    0.8977    0.9286       645\n",
      "               River     0.5800    0.7980    0.6718       495\n",
      "             SeaLake     0.9363    0.9179    0.9270       609\n",
      "\n",
      "            accuracy                         0.7631      5400\n",
      "           macro avg     0.6889    0.7380    0.7089      5400\n",
      "        weighted avg     0.7175    0.7631    0.7359      5400\n",
      "\n",
      " Epoch 17 ~ Batch 1 (21599) ~ Loss 1.464293 \t\t"
     ]
    },
    {
     "name": "stderr",
     "output_type": "stream",
     "text": [
      "/opt/conda/lib/python3.8/site-packages/sklearn/metrics/_classification.py:1248: UndefinedMetricWarning: Precision and F-score are ill-defined and being set to 0.0 in labels with no predicted samples. Use `zero_division` parameter to control this behavior.\n",
      "  _warn_prf(average, modifier, msg_start, len(result))\n",
      "/opt/conda/lib/python3.8/site-packages/sklearn/metrics/_classification.py:1248: UndefinedMetricWarning: Precision and F-score are ill-defined and being set to 0.0 in labels with no predicted samples. Use `zero_division` parameter to control this behavior.\n",
      "  _warn_prf(average, modifier, msg_start, len(result))\n",
      "/opt/conda/lib/python3.8/site-packages/sklearn/metrics/_classification.py:1248: UndefinedMetricWarning: Precision and F-score are ill-defined and being set to 0.0 in labels with no predicted samples. Use `zero_division` parameter to control this behavior.\n",
      "  _warn_prf(average, modifier, msg_start, len(result))\n"
     ]
    },
    {
     "name": "stdout",
     "output_type": "stream",
     "text": [
      " Epoch 17 ~ Batch 8917 (21599) ~ Loss 2.261207 \t\t"
     ]
    },
    {
     "name": "stderr",
     "output_type": "stream",
     "text": [
      "IOPub message rate exceeded.\n",
      "The Jupyter server will temporarily stop sending output\n",
      "to the client in order to avoid crashing it.\n",
      "To change this limit, set the config variable\n",
      "`--ServerApp.iopub_msg_rate_limit`.\n",
      "\n",
      "Current values:\n",
      "ServerApp.iopub_msg_rate_limit=1000.0 (msgs/sec)\n",
      "ServerApp.rate_limit_window=3.0 (secs)\n",
      "\n"
     ]
    },
    {
     "name": "stdout",
     "output_type": "stream",
     "text": [
      " Epoch 19 ~ Batch 21599 (21599) ~ Loss 1.463682 \t\tTraining [40%]\t Training Loss: 1.6710 Validation Loss: 1.7115\n",
      "[[0.84320557 0.00696864 0.         0.00522648 0.02787456 0.\n",
      "  0.05749129 0.00522648 0.04878049 0.00522648]\n",
      " [0.01393728 0.8466899  0.01219512 0.         0.         0.\n",
      "  0.00348432 0.         0.0261324  0.09756098]\n",
      " [0.02321981 0.01393189 0.6377709  0.06037152 0.00464396 0.\n",
      "  0.2120743  0.02321981 0.02321981 0.00154799]\n",
      " [0.01461378 0.         0.00208768 0.77661795 0.08977035 0.\n",
      "  0.03549061 0.01043841 0.07098121 0.        ]\n",
      " [0.         0.         0.00194175 0.02912621 0.93592233 0.\n",
      "  0.0038835  0.02330097 0.00582524 0.        ]\n",
      " [0.22632794 0.14549654 0.02540416 0.02078522 0.00692841 0.02078522\n",
      "  0.13856813 0.         0.31177829 0.1039261 ]\n",
      " [0.13291139 0.0021097  0.03586498 0.05907173 0.03586498 0.\n",
      "  0.64556962 0.03375527 0.05485232 0.        ]\n",
      " [0.         0.         0.0046729  0.00778816 0.04361371 0.\n",
      "  0.00311526 0.93925234 0.00155763 0.        ]\n",
      " [0.03950104 0.004158   0.004158   0.07484407 0.03118503 0.\n",
      "  0.02286902 0.002079   0.82120582 0.        ]\n",
      " [0.00859107 0.01030928 0.         0.         0.         0.00171821\n",
      "  0.         0.         0.01546392 0.96391753]]\n",
      "                      precision    recall  f1-score   support\n",
      "\n",
      "          AnnualCrop     0.6924    0.8432    0.7604       574\n",
      "              Forest     0.8511    0.8467    0.8489       574\n",
      "HerbaceousVegetation     0.9075    0.6378    0.7491       646\n",
      "             Highway     0.7337    0.7766    0.7546       479\n",
      "          Industrial     0.7941    0.9359    0.8592       515\n",
      "             Pasture     0.9000    0.0208    0.0406       433\n",
      "       PermanentCrop     0.5368    0.6456    0.5862       474\n",
      "         Residential     0.9206    0.9393    0.9298       642\n",
      "               River     0.5976    0.8212    0.6918       481\n",
      "             SeaLake     0.8423    0.9639    0.8990       582\n",
      "\n",
      "            accuracy                         0.7611      5400\n",
      "           macro avg     0.7776    0.7431    0.7120      5400\n",
      "        weighted avg     0.7862    0.7611    0.7333      5400\n",
      "\n",
      " Epoch 20 ~ Batch 8293 (21599) ~ Loss 1.482589 \t\t"
     ]
    },
    {
     "name": "stderr",
     "output_type": "stream",
     "text": [
      "IOPub message rate exceeded.\n",
      "The Jupyter server will temporarily stop sending output\n",
      "to the client in order to avoid crashing it.\n",
      "To change this limit, set the config variable\n",
      "`--ServerApp.iopub_msg_rate_limit`.\n",
      "\n",
      "Current values:\n",
      "ServerApp.iopub_msg_rate_limit=1000.0 (msgs/sec)\n",
      "ServerApp.rate_limit_window=3.0 (secs)\n",
      "\n"
     ]
    },
    {
     "name": "stdout",
     "output_type": "stream",
     "text": [
      " Epoch 22 ~ Batch 21599 (21599) ~ Loss 1.466813 \t\tTraining [46%]\t Training Loss: 1.6357 Validation Loss: 1.6887\n",
      "[[0.79562044 0.00547445 0.01277372 0.01094891 0.01642336 0.05109489\n",
      "  0.0620438  0.         0.03467153 0.01094891]\n",
      " [0.         0.92586751 0.02996845 0.         0.         0.03785489\n",
      "  0.         0.         0.00157729 0.00473186]\n",
      " [0.00451128 0.01353383 0.7037594  0.06766917 0.00601504 0.02406015\n",
      "  0.13082707 0.04511278 0.00150376 0.00300752]\n",
      " [0.00627615 0.         0.0041841  0.81380753 0.09414226 0.\n",
      "  0.0334728  0.03556485 0.0125523  0.        ]\n",
      " [0.00205761 0.         0.         0.01851852 0.92386831 0.\n",
      "  0.00205761 0.05144033 0.00205761 0.        ]\n",
      " [0.05753425 0.06027397 0.03561644 0.05479452 0.         0.51780822\n",
      "  0.1260274  0.         0.13424658 0.01369863]\n",
      " [0.08639706 0.         0.14889706 0.07720588 0.01838235 0.01102941\n",
      "  0.62316176 0.02573529 0.00919118 0.        ]\n",
      " [0.         0.         0.00338409 0.00676819 0.05076142 0.\n",
      "  0.         0.93908629 0.         0.        ]\n",
      " [0.01724138 0.00215517 0.00431034 0.18534483 0.04741379 0.02801724\n",
      "  0.03448276 0.02155172 0.65948276 0.        ]\n",
      " [0.016      0.04       0.0064     0.         0.         0.0304\n",
      "  0.         0.         0.0128     0.8944    ]]\n",
      "                      precision    recall  f1-score   support\n",
      "\n",
      "          AnnualCrop     0.8242    0.7956    0.8097       548\n",
      "              Forest     0.9073    0.9259    0.9165       634\n",
      "HerbaceousVegetation     0.7826    0.7038    0.7411       665\n",
      "             Highway     0.6473    0.8138    0.7210       478\n",
      "          Industrial     0.7891    0.9239    0.8512       486\n",
      "             Pasture     0.6407    0.5178    0.5727       365\n",
      "       PermanentCrop     0.6289    0.6232    0.6260       544\n",
      "         Residential     0.8525    0.9391    0.8937       591\n",
      "               River     0.7727    0.6595    0.7116       464\n",
      "             SeaLake     0.9722    0.8944    0.9317       625\n",
      "\n",
      "            accuracy                         0.7920      5400\n",
      "           macro avg     0.7817    0.7797    0.7775      5400\n",
      "        weighted avg     0.7937    0.7920    0.7900      5400\n",
      "\n",
      " Epoch 23 ~ Batch 8636 (21599) ~ Loss 1.461707 \t\t"
     ]
    },
    {
     "name": "stderr",
     "output_type": "stream",
     "text": [
      "IOPub message rate exceeded.\n",
      "The Jupyter server will temporarily stop sending output\n",
      "to the client in order to avoid crashing it.\n",
      "To change this limit, set the config variable\n",
      "`--ServerApp.iopub_msg_rate_limit`.\n",
      "\n",
      "Current values:\n",
      "ServerApp.iopub_msg_rate_limit=1000.0 (msgs/sec)\n",
      "ServerApp.rate_limit_window=3.0 (secs)\n",
      "\n"
     ]
    },
    {
     "name": "stdout",
     "output_type": "stream",
     "text": [
      " Epoch 25 ~ Batch 21599 (21599) ~ Loss 1.466315 \t\tTraining [52%]\t Training Loss: 1.6178 Validation Loss: 1.6883\n",
      "[[0.7247191  0.01498127 0.01123596 0.00374532 0.01498127 0.08614232\n",
      "  0.09550562 0.         0.02621723 0.02247191]\n",
      " [0.         0.8557047  0.01342282 0.         0.         0.0033557\n",
      "  0.         0.         0.00167785 0.12583893]\n",
      " [0.0033389  0.03672788 0.81469115 0.03505843 0.01001669 0.0066778\n",
      "  0.06844741 0.02337229 0.         0.00166945]\n",
      " [0.0021978  0.         0.05274725 0.83296703 0.04395604 0.01538462\n",
      "  0.02637363 0.01978022 0.00659341 0.        ]\n",
      " [0.         0.         0.         0.02033272 0.93715342 0.\n",
      "  0.012939   0.02402957 0.00554529 0.        ]\n",
      " [0.02137767 0.19477435 0.10688836 0.01900238 0.         0.50356295\n",
      "  0.05463183 0.         0.0807601  0.01900238]\n",
      " [0.0245283  0.01509434 0.35660377 0.03773585 0.00377358 0.03018868\n",
      "  0.51886792 0.00377358 0.00566038 0.00377358]\n",
      " [0.         0.         0.00983607 0.         0.0295082  0.\n",
      "  0.00655738 0.95409836 0.         0.        ]\n",
      " [0.01367188 0.0234375  0.0546875  0.12304688 0.0234375  0.09765625\n",
      "  0.015625   0.00195312 0.64648438 0.        ]\n",
      " [0.01328904 0.02325581 0.         0.         0.         0.01827243\n",
      "  0.         0.         0.00332226 0.94186047]]\n",
      "                      precision    recall  f1-score   support\n",
      "\n",
      "          AnnualCrop     0.9063    0.7247    0.8054       534\n",
      "              Forest     0.7774    0.8557    0.8147       596\n",
      "HerbaceousVegetation     0.6146    0.8147    0.7006       599\n",
      "             Highway     0.7520    0.8330    0.7904       455\n",
      "          Industrial     0.8848    0.9372    0.9102       541\n",
      "             Pasture     0.6092    0.5036    0.5514       421\n",
      "       PermanentCrop     0.6532    0.5189    0.5783       530\n",
      "         Residential     0.9372    0.9541    0.9456       610\n",
      "               River     0.8465    0.6465    0.7331       512\n",
      "             SeaLake     0.8526    0.9419    0.8950       602\n",
      "\n",
      "            accuracy                         0.7848      5400\n",
      "           macro avg     0.7834    0.7730    0.7725      5400\n",
      "        weighted avg     0.7884    0.7848    0.7809      5400\n",
      "\n",
      " Epoch 26 ~ Batch 8858 (21599) ~ Loss 2.438622 \t\t"
     ]
    },
    {
     "name": "stderr",
     "output_type": "stream",
     "text": [
      "IOPub message rate exceeded.\n",
      "The Jupyter server will temporarily stop sending output\n",
      "to the client in order to avoid crashing it.\n",
      "To change this limit, set the config variable\n",
      "`--ServerApp.iopub_msg_rate_limit`.\n",
      "\n",
      "Current values:\n",
      "ServerApp.iopub_msg_rate_limit=1000.0 (msgs/sec)\n",
      "ServerApp.rate_limit_window=3.0 (secs)\n",
      "\n"
     ]
    },
    {
     "name": "stdout",
     "output_type": "stream",
     "text": [
      " Epoch 28 ~ Batch 21599 (21599) ~ Loss 1.482008 \t\tTraining [58%]\t Training Loss: 1.6062 Validation Loss: 1.6372\n",
      "[[0.82495667 0.01559792 0.00519931 0.01386482 0.01213172 0.06412478\n",
      "  0.04679376 0.         0.01039861 0.00693241]\n",
      " [0.         0.96314103 0.00961538 0.         0.         0.01121795\n",
      "  0.         0.         0.00480769 0.01121795]\n",
      " [0.00312989 0.02816901 0.76056338 0.02660407 0.00938967 0.0172144\n",
      "  0.13302034 0.0172144  0.         0.00469484]\n",
      " [0.01968504 0.         0.00590551 0.81299213 0.04330709 0.00787402\n",
      "  0.05905512 0.02362205 0.02755906 0.        ]\n",
      " [0.00369004 0.         0.         0.02214022 0.9298893  0.\n",
      "  0.00369004 0.03690037 0.00369004 0.        ]\n",
      " [0.0741688  0.09462916 0.06393862 0.01278772 0.01278772 0.61636829\n",
      "  0.04347826 0.         0.06393862 0.01790281]\n",
      " [0.07792208 0.00649351 0.13419913 0.01948052 0.01298701 0.02164502\n",
      "  0.7012987  0.01298701 0.01298701 0.        ]\n",
      " [0.         0.         0.0033389  0.00500835 0.02838063 0.\n",
      "  0.01168614 0.95158598 0.         0.        ]\n",
      " [0.01057082 0.00634249 0.02748414 0.06976744 0.01902748 0.07610994\n",
      "  0.01691332 0.00634249 0.76744186 0.        ]\n",
      " [0.01025641 0.02222222 0.         0.         0.         0.02735043\n",
      "  0.         0.         0.01538462 0.92478632]]\n",
      "                      precision    recall  f1-score   support\n",
      "\n",
      "          AnnualCrop     0.8410    0.8250    0.8329       577\n",
      "              Forest     0.8787    0.9631    0.9190       624\n",
      "HerbaceousVegetation     0.8100    0.7606    0.7845       639\n",
      "             Highway     0.8260    0.8130    0.8194       508\n",
      "          Industrial     0.8750    0.9299    0.9016       542\n",
      "             Pasture     0.6657    0.6164    0.6401       391\n",
      "       PermanentCrop     0.6480    0.7013    0.6736       462\n",
      "         Residential     0.9164    0.9516    0.9337       599\n",
      "               River     0.8481    0.7674    0.8058       473\n",
      "             SeaLake     0.9626    0.9248    0.9433       585\n",
      "\n",
      "            accuracy                         0.8369      5400\n",
      "           macro avg     0.8272    0.8253    0.8254      5400\n",
      "        weighted avg     0.8366    0.8369    0.8359      5400\n",
      "\n",
      " Epoch 29 ~ Batch 8591 (21599) ~ Loss 1.462957 \t\t"
     ]
    },
    {
     "name": "stderr",
     "output_type": "stream",
     "text": [
      "IOPub message rate exceeded.\n",
      "The Jupyter server will temporarily stop sending output\n",
      "to the client in order to avoid crashing it.\n",
      "To change this limit, set the config variable\n",
      "`--ServerApp.iopub_msg_rate_limit`.\n",
      "\n",
      "Current values:\n",
      "ServerApp.iopub_msg_rate_limit=1000.0 (msgs/sec)\n",
      "ServerApp.rate_limit_window=3.0 (secs)\n",
      "\n"
     ]
    },
    {
     "name": "stdout",
     "output_type": "stream",
     "text": [
      " Epoch 31 ~ Batch 21599 (21599) ~ Loss 1.597283 \t\tTraining [64%]\t Training Loss: 1.5921 Validation Loss: 1.6502\n",
      "[[0.81314879 0.00346021 0.00519031 0.0017301  0.00519031 0.07439446\n",
      "  0.04152249 0.00346021 0.0449827  0.00692042]\n",
      " [0.         0.94207836 0.01703578 0.         0.         0.01192504\n",
      "  0.         0.         0.00511073 0.02385009]\n",
      " [0.00793651 0.02857143 0.77460317 0.01587302 0.00793651 0.01587302\n",
      "  0.13492063 0.01111111 0.0031746  0.        ]\n",
      " [0.00401606 0.         0.04016064 0.81325301 0.04216867 0.00803213\n",
      "  0.06024096 0.00401606 0.02811245 0.        ]\n",
      " [0.         0.         0.         0.01414141 0.95353535 0.\n",
      "  0.00808081 0.02020202 0.0040404  0.        ]\n",
      " [0.07529412 0.12       0.04705882 0.00235294 0.         0.66823529\n",
      "  0.02823529 0.         0.05647059 0.00235294]\n",
      " [0.10869565 0.00395257 0.14822134 0.0256917  0.01185771 0.07114625\n",
      "  0.59881423 0.00197628 0.02766798 0.00197628]\n",
      " [0.         0.         0.01166667 0.00166667 0.04666667 0.\n",
      "  0.03333333 0.90666667 0.         0.        ]\n",
      " [0.00609756 0.00406504 0.0304878  0.07317073 0.02235772 0.06504065\n",
      "  0.00203252 0.         0.79674797 0.        ]\n",
      " [0.00848896 0.02886248 0.         0.         0.         0.03395586\n",
      "  0.         0.         0.01018676 0.91850594]]\n",
      "                      precision    recall  f1-score   support\n",
      "\n",
      "          AnnualCrop     0.8217    0.8131    0.8174       578\n",
      "              Forest     0.8574    0.9421    0.8977       587\n",
      "HerbaceousVegetation     0.7649    0.7746    0.7697       630\n",
      "             Highway     0.8544    0.8133    0.8333       498\n",
      "          Industrial     0.8645    0.9535    0.9068       495\n",
      "             Pasture     0.6514    0.6682    0.6597       425\n",
      "       PermanentCrop     0.6326    0.5988    0.6152       506\n",
      "         Residential     0.9611    0.9067    0.9331       600\n",
      "               River     0.8116    0.7967    0.8041       492\n",
      "             SeaLake     0.9643    0.9185    0.9409       589\n",
      "\n",
      "            accuracy                         0.8244      5400\n",
      "           macro avg     0.8184    0.8186    0.8178      5400\n",
      "        weighted avg     0.8249    0.8244    0.8240      5400\n",
      "\n",
      " Epoch 32 ~ Batch 8860 (21599) ~ Loss 1.465013 \t\t"
     ]
    },
    {
     "name": "stderr",
     "output_type": "stream",
     "text": [
      "IOPub message rate exceeded.\n",
      "The Jupyter server will temporarily stop sending output\n",
      "to the client in order to avoid crashing it.\n",
      "To change this limit, set the config variable\n",
      "`--ServerApp.iopub_msg_rate_limit`.\n",
      "\n",
      "Current values:\n",
      "ServerApp.iopub_msg_rate_limit=1000.0 (msgs/sec)\n",
      "ServerApp.rate_limit_window=3.0 (secs)\n",
      "\n"
     ]
    },
    {
     "name": "stdout",
     "output_type": "stream",
     "text": [
      " Epoch 34 ~ Batch 21599 (21599) ~ Loss 1.463130 \t\tTraining [70%]\t Training Loss: 1.5815 Validation Loss: 1.6440\n",
      "[[0.83215548 0.00353357 0.00353357 0.00353357 0.00706714 0.05830389\n",
      "  0.06183746 0.         0.01766784 0.01236749]\n",
      " [0.         0.87979967 0.01502504 0.         0.         0.02838063\n",
      "  0.         0.         0.00166945 0.07512521]\n",
      " [0.00631912 0.01737757 0.69352291 0.04107425 0.00473934 0.06319115\n",
      "  0.13586098 0.01737757 0.01737757 0.00315956]\n",
      " [0.         0.00205339 0.00821355 0.87063655 0.03080082 0.01232033\n",
      "  0.03080082 0.00821355 0.03696099 0.        ]\n",
      " [0.         0.         0.         0.01584158 0.95049505 0.\n",
      "  0.00792079 0.02574257 0.         0.        ]\n",
      " [0.06651885 0.05321508 0.02217295 0.00221729 0.00665188 0.70509978\n",
      "  0.07317073 0.         0.03991131 0.03104213]\n",
      " [0.06477733 0.00607287 0.05668016 0.04251012 0.00607287 0.06882591\n",
      "  0.72874494 0.00404858 0.02024291 0.00202429]\n",
      " [0.         0.         0.00522648 0.01045296 0.06968641 0.\n",
      "  0.03135889 0.8815331  0.00174216 0.        ]\n",
      " [0.01422764 0.00406504 0.00406504 0.06300813 0.01626016 0.10569106\n",
      "  0.00609756 0.         0.78252033 0.00406504]\n",
      " [0.00500835 0.01669449 0.         0.         0.         0.01168614\n",
      "  0.         0.         0.01335559 0.95325543]]\n",
      "                      precision    recall  f1-score   support\n",
      "\n",
      "          AnnualCrop     0.8611    0.8322    0.8464       566\n",
      "              Forest     0.9086    0.8798    0.8940       599\n",
      "HerbaceousVegetation     0.8833    0.6935    0.7770       633\n",
      "             Highway     0.8170    0.8706    0.8429       487\n",
      "          Industrial     0.8633    0.9505    0.9048       505\n",
      "             Pasture     0.6272    0.7051    0.6639       451\n",
      "       PermanentCrop     0.6498    0.7287    0.6870       494\n",
      "         Residential     0.9440    0.8815    0.9117       574\n",
      "               River     0.8333    0.7825    0.8071       492\n",
      "             SeaLake     0.8894    0.9533    0.9202       599\n",
      "\n",
      "            accuracy                         0.8298      5400\n",
      "           macro avg     0.8277    0.8278    0.8255      5400\n",
      "        weighted avg     0.8358    0.8298    0.8304      5400\n",
      "\n",
      " Epoch 35 ~ Batch 8932 (21599) ~ Loss 1.483300 \t\t"
     ]
    },
    {
     "name": "stderr",
     "output_type": "stream",
     "text": [
      "IOPub message rate exceeded.\n",
      "The Jupyter server will temporarily stop sending output\n",
      "to the client in order to avoid crashing it.\n",
      "To change this limit, set the config variable\n",
      "`--ServerApp.iopub_msg_rate_limit`.\n",
      "\n",
      "Current values:\n",
      "ServerApp.iopub_msg_rate_limit=1000.0 (msgs/sec)\n",
      "ServerApp.rate_limit_window=3.0 (secs)\n",
      "\n"
     ]
    },
    {
     "name": "stdout",
     "output_type": "stream",
     "text": [
      " Epoch 37 ~ Batch 21599 (21599) ~ Loss 1.468247 \t\tTraining [76%]\t Training Loss: 1.5746 Validation Loss: 1.6555\n",
      "[[0.78481013 0.00904159 0.00361664 0.01084991 0.01084991 0.07775769\n",
      "  0.06329114 0.         0.03435805 0.00542495]\n",
      " [0.         0.92833333 0.01833333 0.         0.         0.02666667\n",
      "  0.         0.         0.005      0.02166667]\n",
      " [0.         0.02298851 0.83087028 0.0410509  0.00164204 0.01313629\n",
      "  0.05582923 0.03119869 0.00164204 0.00164204]\n",
      " [0.01212121 0.         0.03838384 0.82222222 0.04444444 0.01010101\n",
      "  0.01818182 0.03636364 0.01818182 0.        ]\n",
      " [0.         0.         0.00417537 0.01043841 0.87682672 0.\n",
      "  0.00835073 0.10020877 0.         0.        ]\n",
      " [0.03855422 0.04578313 0.05783133 0.         0.00240964 0.6939759\n",
      "  0.03614458 0.         0.11084337 0.01445783]\n",
      " [0.042      0.01       0.314      0.022      0.016      0.056\n",
      "  0.502      0.01       0.028      0.        ]\n",
      " [0.         0.         0.00149477 0.00149477 0.02989537 0.\n",
      "  0.00298954 0.96412556 0.         0.        ]\n",
      " [0.01912046 0.00573614 0.03441683 0.0917782  0.04206501 0.03824092\n",
      "  0.01912046 0.00191205 0.74760994 0.        ]\n",
      " [0.02333932 0.01795332 0.00359066 0.         0.         0.01436266\n",
      "  0.         0.         0.01974865 0.92100539]]\n",
      "                      precision    recall  f1-score   support\n",
      "\n",
      "          AnnualCrop     0.8680    0.7848    0.8243       553\n",
      "              Forest     0.9086    0.9283    0.9184       600\n",
      "HerbaceousVegetation     0.6819    0.8309    0.7491       609\n",
      "             Highway     0.8091    0.8222    0.8156       495\n",
      "          Industrial     0.8400    0.8768    0.8580       479\n",
      "             Pasture     0.6923    0.6940    0.6931       415\n",
      "       PermanentCrop     0.6972    0.5020    0.5837       500\n",
      "         Residential     0.8764    0.9641    0.9181       669\n",
      "               River     0.7915    0.7476    0.7689       523\n",
      "             SeaLake     0.9571    0.9210    0.9387       557\n",
      "\n",
      "            accuracy                         0.8170      5400\n",
      "           macro avg     0.8122    0.8072    0.8068      5400\n",
      "        weighted avg     0.8172    0.8170    0.8142      5400\n",
      "\n",
      " Epoch 38 ~ Batch 509 (21599) ~ Loss 1.461164 \t\t"
     ]
    },
    {
     "name": "stderr",
     "output_type": "stream",
     "text": [
      "IOPub message rate exceeded.\n",
      "The Jupyter server will temporarily stop sending output\n",
      "to the client in order to avoid crashing it.\n",
      "To change this limit, set the config variable\n",
      "`--ServerApp.iopub_msg_rate_limit`.\n",
      "\n",
      "Current values:\n",
      "ServerApp.iopub_msg_rate_limit=1000.0 (msgs/sec)\n",
      "ServerApp.rate_limit_window=3.0 (secs)\n",
      "\n"
     ]
    },
    {
     "name": "stdout",
     "output_type": "stream",
     "text": [
      " Epoch 40 ~ Batch 21599 (21599) ~ Loss 1.462031 \t\tTraining [82%]\t Training Loss: 1.5692 Validation Loss: 1.6356\n",
      "[[0.82909091 0.00363636 0.00727273 0.00181818 0.00727273 0.06363636\n",
      "  0.06181818 0.         0.02363636 0.00181818]\n",
      " [0.         0.87993421 0.01809211 0.         0.         0.03289474\n",
      "  0.00164474 0.         0.00164474 0.06578947]\n",
      " [0.00322581 0.00806452 0.76935484 0.0516129  0.00967742 0.02258065\n",
      "  0.1016129  0.02580645 0.00483871 0.00322581]\n",
      " [0.00206612 0.         0.00206612 0.85950413 0.02479339 0.01239669\n",
      "  0.05165289 0.00619835 0.04132231 0.        ]\n",
      " [0.         0.         0.         0.03640257 0.90792291 0.\n",
      "  0.01498929 0.0385439  0.00214133 0.        ]\n",
      " [0.05263158 0.04210526 0.03947368 0.02105263 0.         0.74210526\n",
      "  0.03947368 0.         0.05789474 0.00526316]\n",
      " [0.06954887 0.0018797  0.14097744 0.02631579 0.0075188  0.02443609\n",
      "  0.70112782 0.0056391  0.02255639 0.        ]\n",
      " [0.         0.         0.01076923 0.01230769 0.04923077 0.\n",
      "  0.00769231 0.92       0.         0.        ]\n",
      " [0.01202405 0.00200401 0.01202405 0.09619238 0.04609218 0.05611222\n",
      "  0.02004008 0.         0.75551102 0.        ]\n",
      " [0.00655738 0.00491803 0.00163934 0.         0.         0.01967213\n",
      "  0.         0.         0.01311475 0.95409836]]\n",
      "                      precision    recall  f1-score   support\n",
      "\n",
      "          AnnualCrop     0.8669    0.8291    0.8476       550\n",
      "              Forest     0.9503    0.8799    0.9137       608\n",
      "HerbaceousVegetation     0.7990    0.7694    0.7839       620\n",
      "             Highway     0.7647    0.8595    0.8093       484\n",
      "          Industrial     0.8396    0.9079    0.8724       467\n",
      "             Pasture     0.6878    0.7421    0.7139       380\n",
      "       PermanentCrop     0.6998    0.7011    0.7005       532\n",
      "         Residential     0.9373    0.9200    0.9286       650\n",
      "               River     0.8249    0.7555    0.7887       499\n",
      "             SeaLake     0.9282    0.9541    0.9410       610\n",
      "\n",
      "            accuracy                         0.8370      5400\n",
      "           macro avg     0.8299    0.8319    0.8300      5400\n",
      "        weighted avg     0.8394    0.8370    0.8374      5400\n",
      "\n",
      " Epoch 41 ~ Batch 591 (21599) ~ Loss 1.463943 \t\t"
     ]
    },
    {
     "name": "stderr",
     "output_type": "stream",
     "text": [
      "IOPub message rate exceeded.\n",
      "The Jupyter server will temporarily stop sending output\n",
      "to the client in order to avoid crashing it.\n",
      "To change this limit, set the config variable\n",
      "`--ServerApp.iopub_msg_rate_limit`.\n",
      "\n",
      "Current values:\n",
      "ServerApp.iopub_msg_rate_limit=1000.0 (msgs/sec)\n",
      "ServerApp.rate_limit_window=3.0 (secs)\n",
      "\n"
     ]
    },
    {
     "name": "stdout",
     "output_type": "stream",
     "text": [
      " Epoch 43 ~ Batch 21599 (21599) ~ Loss 1.462999 \t\tTraining [88%]\t Training Loss: 1.5619 Validation Loss: 1.6350\n",
      "[[0.80662021 0.         0.00522648 0.         0.0261324  0.05400697\n",
      "  0.05923345 0.         0.04006969 0.0087108 ]\n",
      " [0.         0.92006525 0.01305057 0.         0.         0.04730832\n",
      "  0.00163132 0.         0.00978793 0.00815661]\n",
      " [0.00468019 0.00624025 0.79407176 0.05460218 0.00780031 0.04212168\n",
      "  0.05772231 0.02028081 0.00936037 0.00312012]\n",
      " [0.00617284 0.         0.01234568 0.81893004 0.05761317 0.03497942\n",
      "  0.01646091 0.01440329 0.03909465 0.        ]\n",
      " [0.         0.         0.         0.0214425  0.95126706 0.\n",
      "  0.00779727 0.01754386 0.00194932 0.        ]\n",
      " [0.03743316 0.00534759 0.01871658 0.00534759 0.00534759 0.73262032\n",
      "  0.05347594 0.         0.13368984 0.00802139]\n",
      " [0.07874016 0.0019685  0.17716535 0.04527559 0.02362205 0.06299213\n",
      "  0.55708661 0.00984252 0.04133858 0.0019685 ]\n",
      " [0.00157233 0.         0.         0.02672956 0.0990566  0.\n",
      "  0.01100629 0.86163522 0.         0.        ]\n",
      " [0.00665188 0.         0.01108647 0.0421286  0.03547672 0.0443459\n",
      "  0.00886918 0.         0.85144124 0.        ]\n",
      " [0.01324503 0.00993377 0.         0.         0.         0.01986755\n",
      "  0.         0.         0.0115894  0.94536424]]\n",
      "                      precision    recall  f1-score   support\n",
      "\n",
      "          AnnualCrop     0.8654    0.8066    0.8350       574\n",
      "              Forest     0.9775    0.9201    0.9479       613\n",
      "HerbaceousVegetation     0.8105    0.7941    0.8022       641\n",
      "             Highway     0.7881    0.8189    0.8032       486\n",
      "          Industrial     0.7758    0.9513    0.8546       513\n",
      "             Pasture     0.6199    0.7326    0.6716       374\n",
      "       PermanentCrop     0.7111    0.5571    0.6247       508\n",
      "         Residential     0.9416    0.8616    0.8998       636\n",
      "               River     0.7427    0.8514    0.7934       451\n",
      "             SeaLake     0.9727    0.9454    0.9589       604\n",
      "\n",
      "            accuracy                         0.8300      5400\n",
      "           macro avg     0.8205    0.8239    0.8191      5400\n",
      "        weighted avg     0.8354    0.8300    0.8298      5400\n",
      "\n",
      " Epoch 44 ~ Batch 1127 (21599) ~ Loss 1.538771 \t\t"
     ]
    },
    {
     "name": "stderr",
     "output_type": "stream",
     "text": [
      "IOPub message rate exceeded.\n",
      "The Jupyter server will temporarily stop sending output\n",
      "to the client in order to avoid crashing it.\n",
      "To change this limit, set the config variable\n",
      "`--ServerApp.iopub_msg_rate_limit`.\n",
      "\n",
      "Current values:\n",
      "ServerApp.iopub_msg_rate_limit=1000.0 (msgs/sec)\n",
      "ServerApp.rate_limit_window=3.0 (secs)\n",
      "\n"
     ]
    },
    {
     "name": "stdout",
     "output_type": "stream",
     "text": [
      " Epoch 46 ~ Batch 21599 (21599) ~ Loss 2.459842 \t\tTraining [94%]\t Training Loss: 1.5594 Validation Loss: 1.6350\n",
      "[[0.82574257 0.00594059 0.0039604  0.0039604  0.00594059 0.08316832\n",
      "  0.04554455 0.         0.01584158 0.00990099]\n",
      " [0.         0.92753623 0.00905797 0.         0.         0.03442029\n",
      "  0.         0.         0.00543478 0.02355072]\n",
      " [0.00458015 0.00458015 0.76335878 0.03664122 0.00305344 0.03664122\n",
      "  0.11145038 0.0259542  0.00916031 0.00458015]\n",
      " [0.00982318 0.         0.00392927 0.83104126 0.06679764 0.00982318\n",
      "  0.043222   0.00785855 0.02750491 0.        ]\n",
      " [0.00383877 0.         0.         0.02303263 0.9328215  0.\n",
      "  0.00959693 0.02495202 0.00575816 0.        ]\n",
      " [0.03217822 0.00247525 0.02475248 0.         0.         0.7549505\n",
      "  0.06930693 0.         0.11386139 0.00247525]\n",
      " [0.09320388 0.00194175 0.13398058 0.01747573 0.0038835  0.05436893\n",
      "  0.66213592 0.01359223 0.01941748 0.        ]\n",
      " [0.         0.         0.00963082 0.00802568 0.0529695  0.\n",
      "  0.00802568 0.92134831 0.         0.        ]\n",
      " [0.01829268 0.         0.0203252  0.1097561  0.02642276 0.08130081\n",
      "  0.00813008 0.         0.73577236 0.        ]\n",
      " [0.00801282 0.01282051 0.         0.         0.         0.01602564\n",
      "  0.         0.         0.01762821 0.94551282]]\n",
      "                      precision    recall  f1-score   support\n",
      "\n",
      "          AnnualCrop     0.8307    0.8257    0.8282       505\n",
      "              Forest     0.9697    0.9275    0.9481       552\n",
      "HerbaceousVegetation     0.8278    0.7634    0.7943       655\n",
      "             Highway     0.7996    0.8310    0.8150       509\n",
      "          Industrial     0.8482    0.9328    0.8885       521\n",
      "             Pasture     0.6448    0.7550    0.6956       404\n",
      "       PermanentCrop     0.6806    0.6621    0.6713       515\n",
      "         Residential     0.9333    0.9213    0.9273       623\n",
      "               River     0.7819    0.7358    0.7581       492\n",
      "             SeaLake     0.9641    0.9455    0.9547       624\n",
      "\n",
      "            accuracy                         0.8352      5400\n",
      "           macro avg     0.8281    0.8300    0.8281      5400\n",
      "        weighted avg     0.8379    0.8352    0.8357      5400\n",
      "\n",
      " Epoch 47 ~ Batch 941 (21599) ~ Loss 1.500457 \t\t"
     ]
    },
    {
     "name": "stderr",
     "output_type": "stream",
     "text": [
      "IOPub message rate exceeded.\n",
      "The Jupyter server will temporarily stop sending output\n",
      "to the client in order to avoid crashing it.\n",
      "To change this limit, set the config variable\n",
      "`--ServerApp.iopub_msg_rate_limit`.\n",
      "\n",
      "Current values:\n",
      "ServerApp.iopub_msg_rate_limit=1000.0 (msgs/sec)\n",
      "ServerApp.rate_limit_window=3.0 (secs)\n",
      "\n"
     ]
    },
    {
     "name": "stdout",
     "output_type": "stream",
     "text": [
      " Epoch 49 ~ Batch 21599 (21599) ~ Loss 1.463833 \t\tTraining [100%]\t Training Loss: 1.5520 Validation Loss: 1.6524\n",
      "[[0.75724638 0.01086957 0.00543478 0.00181159 0.01449275 0.07608696\n",
      "  0.12137681 0.         0.01086957 0.00181159]\n",
      " [0.         0.94664634 0.0320122  0.         0.         0.01981707\n",
      "  0.         0.         0.00152439 0.        ]\n",
      " [0.00847458 0.01016949 0.71186441 0.0220339  0.01186441 0.01355932\n",
      "  0.19491525 0.02542373 0.00169492 0.        ]\n",
      " [0.00394477 0.         0.01183432 0.78303748 0.07495069 0.00394477\n",
      "  0.0591716  0.05128205 0.01183432 0.        ]\n",
      " [0.00205339 0.         0.         0.         0.95071869 0.\n",
      "  0.02464066 0.02053388 0.00205339 0.        ]\n",
      " [0.01643192 0.07276995 0.0258216  0.01877934 0.00234742 0.72769953\n",
      "  0.08215962 0.         0.05164319 0.00234742]\n",
      " [0.09072165 0.00412371 0.07010309 0.01443299 0.01237113 0.03917526\n",
      "  0.74226804 0.02268041 0.00412371 0.        ]\n",
      " [0.         0.         0.00451807 0.00301205 0.06927711 0.\n",
      "  0.01656627 0.90662651 0.         0.        ]\n",
      " [0.02489627 0.00622407 0.03112033 0.09543568 0.0373444  0.10165975\n",
      "  0.0373444  0.00414938 0.66182573 0.        ]\n",
      " [0.02359347 0.03629764 0.00725953 0.         0.         0.02359347\n",
      "  0.         0.         0.00544465 0.90381125]]\n",
      "                      precision    recall  f1-score   support\n",
      "\n",
      "          AnnualCrop     0.8327    0.7572    0.7932       552\n",
      "              Forest     0.9013    0.9466    0.9234       656\n",
      "HerbaceousVegetation     0.8124    0.7119    0.7588       590\n",
      "             Highway     0.8376    0.7830    0.8094       507\n",
      "          Industrial     0.7888    0.9507    0.8622       487\n",
      "             Pasture     0.6798    0.7277    0.7029       426\n",
      "       PermanentCrop     0.5556    0.7423    0.6355       485\n",
      "         Residential     0.9039    0.9066    0.9053       664\n",
      "               River     0.8837    0.6618    0.7568       482\n",
      "             SeaLake     0.9960    0.9038    0.9477       551\n",
      "\n",
      "            accuracy                         0.8163      5400\n",
      "           macro avg     0.8192    0.8092    0.8095      5400\n",
      "        weighted avg     0.8283    0.8163    0.8180      5400\n",
      "\n"
     ]
    }
   ],
   "source": [
    "train_loss_list = []\n",
    "val_loss_list = []\n",
    "epochs = 50\n",
    "\n",
    "loss_func = nn.CrossEntropyLoss()\n",
    "\n",
    "for epoch in range(epochs):\n",
    "  train_loader = iter(handler.qcnn_data_loader(train_imgs, train_labels, batch_size = 1, img_shape = (64,64,3)))\n",
    "  test_loader = iter(handler.qcnn_data_loader(val_images, val_labels, batch_size = 1, img_shape = (64,64,3)))\n",
    "  total_loss = []\n",
    "  for batch_idx in range(len(train_labels)):\n",
    "    data, target = next(train_loader) \n",
    "    data = data.to(device)\n",
    "    target = target.to(device)\n",
    "    # print(batch_idx)\n",
    "    optimizer.zero_grad()        \n",
    "    # Forward pass\n",
    "    output = network(data)\n",
    "    # Calculating loss\n",
    "    loss = loss_func(output, target)\n",
    "    # Backward pass\n",
    "    loss.backward()\n",
    "    loss.detach_()\n",
    "    # Optimize the weights\n",
    "    optimizer.step()\n",
    "    \n",
    "    total_loss.append(loss.item())\n",
    "    \n",
    "    print('\\r Epoch %d ~ Batch %d (%d) ~ Loss %f ' % (epoch, batch_idx, len(train_imgs)-1, loss.item()), end='\\t\\t')\n",
    "    \n",
    "    del output\n",
    "    del loss\n",
    "  \n",
    "  with torch.no_grad():\n",
    "    val_loss = []\n",
    "    targets = []\n",
    "    predictions = []\n",
    "    for batch_idx in range(len(val_images)):\n",
    "      data, target = next(test_loader)\n",
    "      data = data.to(device)\n",
    "      target = target.to(device)\n",
    "      output = network(data)\n",
    "      loss = loss_func(output, target)\n",
    "      loss.detach_()\n",
    "      val_loss.append(loss.item())\n",
    "    \n",
    "      del output\n",
    "      del loss\n",
    "\n",
    "      targets.append(target.item())\n",
    "      \n",
    "      predictions.append(network.predict(data).item())\n",
    "  \n",
    "      \n",
    "  train_loss_list.append(sum(total_loss)/len(total_loss))\n",
    "  val_loss_list.append(sum(val_loss)/len(val_loss))\n",
    "  \n",
    "  print('Training [{:.0f}%]\\t Training Loss: {:.4f} Validation Loss: {:.4f}'.format(\n",
    "      100. * (epoch + 1) / epochs, train_loss_list[-1], val_loss_list[-1]))\n",
    "  \n",
    "  if epoch % 3 == 1:\n",
    "    print(confusion_matrix(targets, predictions,normalize='true'))\n",
    "    print(classification_report(targets, predictions, target_names=classes, digits=4))\n",
    "    torch.save({\n",
    "            'epoch': epoch,\n",
    "            'model_state_dict': network.state_dict(),\n",
    "            'optimizer_state_dict': optimizer.state_dict(),\n",
    "            'loss': train_loss_list[-1],\n",
    "            }, '/home/jovyan/QNN4RadarImage/JSTARS2021/quantum_classifiers/eurosat_classification/saved_models_new/model-bell-2.pt')\n",
    "    #torch.save(network.state_dict(), '/content/drive/MyDrive/QAI4EO/model-bell.pt')"
   ]
  },
  {
   "cell_type": "code",
   "execution_count": 18,
   "metadata": {
    "id": "tyaee9pf1fxF"
   },
   "outputs": [
    {
     "data": {
      "image/png": "[encoded data removed]",
      "text/plain": [
       "<Figure size 432x288 with 1 Axes>"
      ]
     },
     "metadata": {
      "needs_background": "light"
     },
     "output_type": "display_data"
    }
   ],
   "source": [
    "plt.plot(train_loss_list)\n",
    "plt.plot(val_loss_list)\n",
    "plt.title('Hybrid NN Training Convergence for {}-qubit'.format(NUM_QUBITS))\n",
    "plt.xlabel('Training Iterations')\n",
    "plt.ylabel('Cross Entropy Loss')\n",
    "plt.legend(['Training', 'Validation'])\n",
    "plt.show()"
   ]
  },
  {
   "cell_type": "code",
   "execution_count": 19,
   "metadata": {
    "id": "1eRGMZkV1gPE"
   },
   "outputs": [
    {
     "data": {
      "image/png": "[encoded data removed]",
      "text/plain": [
       "<Figure size 432x288 with 1 Axes>"
      ]
     },
     "metadata": {
      "needs_background": "light"
     },
     "output_type": "display_data"
    }
   ],
   "source": [
    "import numpy as np\n",
    "import matplotlib.pyplot as plt\n",
    "from scipy.optimize import curve_fit\n",
    "\n",
    "def func(x, a, b, c):\n",
    "  return a * np.exp(-b * x) + c\n",
    "\n",
    "x = np.linspace(0,len(train_loss_list),len(train_loss_list))\n",
    "y = func(x, 2.5, 1.3, 0.5)\n",
    "yn = np.array(val_loss_list)\n",
    "\n",
    "popt, pcov = curve_fit(func, x, yn)\n",
    "\n",
    "plt.figure()\n",
    "x1 = np.linspace(0,100+len(train_loss_list),100+len(train_loss_list))\n",
    "plt.plot(x, yn, 'ko', label=\"Loss\")\n",
    "plt.plot(x1, func(x1, *popt), 'r-', label=\"Fitted Curve\")\n",
    "plt.legend()\n",
    "plt.show()"
   ]
  },
  {
   "cell_type": "code",
   "execution_count": 21,
   "metadata": {
    "id": "owQ_-Zo51i0u"
   },
   "outputs": [
    {
     "name": "stdout",
     "output_type": "stream",
     "text": [
      " 5399"
     ]
    }
   ],
   "source": [
    "test_loader = iter(handler.qcnn_data_loader(val_images, val_labels, batch_size = 1, img_shape = (64,64,3)))\n",
    "accuracy = 0\n",
    "number = 0\n",
    "\n",
    "predictions = []\n",
    "targets = []\n",
    "\n",
    "for ct in range(len(val_images)):\n",
    "\n",
    "  data, target = next(test_loader)\n",
    "  data = data.to(device)\n",
    "  target = target.to(device)\n",
    "  number +=1\n",
    "  output = network.predict(data).item()\n",
    "  \n",
    "  predictions.append(output)\n",
    "  targets.append(target.item())\n",
    "  \n",
    "  accuracy += (output == target[0].item())*1\n",
    "  print('\\r ' + str(ct), end='')"
   ]
  },
  {
   "cell_type": "code",
   "execution_count": 22,
   "metadata": {
    "id": "GZSoIb5bAveU"
   },
   "outputs": [
    {
     "data": {
      "text/plain": [
       "(array([591., 589., 604., 511., 528., 430., 491., 611., 482., 563.]),\n",
       " array([0. , 0.9, 1.8, 2.7, 3.6, 4.5, 5.4, 6.3, 7.2, 8.1, 9. ]),\n",
       " <BarContainer object of 10 artists>)"
      ]
     },
     "execution_count": 22,
     "metadata": {},
     "output_type": "execute_result"
    },
    {
     "data": {
      "image/png": "[encoded data removed]",
      "text/plain": [
       "<Figure size 432x288 with 1 Axes>"
      ]
     },
     "metadata": {
      "needs_background": "light"
     },
     "output_type": "display_data"
    }
   ],
   "source": [
    "plt.hist(targets, bins = 10)"
   ]
  },
  {
   "cell_type": "code",
   "execution_count": 23,
   "metadata": {
    "colab": {
     "base_uri": "https://localhost:8080/"
    },
    "executionInfo": {
     "elapsed": 83579,
     "status": "ok",
     "timestamp": 1621194550318,
     "user": {
      "displayName": "Alessandro Sebastianelli",
      "photoUrl": "https://lh3.googleusercontent.com/a-/AOh14GgVWBLvEG9yF5gq_rkIyj5MCLQv1OzgwlLWxu7e=s64",
      "userId": "16665723407518839496"
     },
     "user_tz": -120
    },
    "id": "N6ohu74x1lAN",
    "outputId": "1362489c-6a10-4f9a-fe74-459fd59ae3d6"
   },
   "outputs": [
    {
     "name": "stdout",
     "output_type": "stream",
     "text": [
      "Performance on test data is : 4409/5400 = 81.64814814814815%\n"
     ]
    }
   ],
   "source": [
    "print(\"Performance on test data is : {}/{} = {}%\".format(accuracy,number,100*accuracy/number))"
   ]
  },
  {
   "cell_type": "code",
   "execution_count": 24,
   "metadata": {
    "id": "N-m3Vutb1laV"
   },
   "outputs": [],
   "source": [
    "from sklearn.metrics import confusion_matrix, ConfusionMatrixDisplay, classification_report\n",
    "cm = confusion_matrix(targets, predictions,normalize='true')"
   ]
  },
  {
   "cell_type": "code",
   "execution_count": 25,
   "metadata": {
    "id": "3I16RB4l1mzk"
   },
   "outputs": [
    {
     "name": "stdout",
     "output_type": "stream",
     "text": [
      "S2\n",
      "Accuracy: [0.7749577  0.93887946 0.71357616 0.7592955  0.92234848 0.70697674\n",
      " 0.74338086 0.92307692 0.70954357 0.91829485] mean:  0.8110330238480197\n",
      "                      precision    recall  f1-score   support\n",
      "\n",
      "          AnnualCrop     0.8373    0.7750    0.8049       591\n",
      "              Forest     0.9021    0.9389    0.9201       589\n",
      "HerbaceousVegetation     0.7967    0.7136    0.7528       604\n",
      "             Highway     0.7823    0.7593    0.7706       511\n",
      "          Industrial     0.8311    0.9223    0.8743       528\n",
      "             Pasture     0.6696    0.7070    0.6878       430\n",
      "       PermanentCrop     0.5868    0.7434    0.6559       491\n",
      "         Residential     0.8868    0.9231    0.9046       611\n",
      "               River     0.8953    0.7095    0.7917       482\n",
      "             SeaLake     0.9885    0.9183    0.9521       563\n",
      "\n",
      "            accuracy                         0.8165      5400\n",
      "           macro avg     0.8176    0.8110    0.8115      5400\n",
      "        weighted avg     0.8244    0.8165    0.8178      5400\n",
      "\n"
     ]
    },
    {
     "data": {
      "image/png": "[encoded data removed]",
      "text/plain": [
       "<Figure size 864x720 with 2 Axes>"
      ]
     },
     "metadata": {
      "needs_background": "light"
     },
     "output_type": "display_data"
    }
   ],
   "source": [
    "fig, axes = plt.subplots(nrows = 1, ncols = 1, figsize = (12,10))\n",
    "\n",
    "cmd = ConfusionMatrixDisplay(cm, display_labels=classes)\n",
    "cmd.plot(ax=axes, cmap='Blues', xticks_rotation='vertical')\n",
    "print('S2')\n",
    "print('Accuracy:', cm.diagonal(), 'mean: ', cm.diagonal().mean())\n",
    "print(classification_report(targets, predictions, target_names=classes, digits=4))\n",
    "axes.get_images()[0].set_clim(0, 1)\n",
    "plt.show()\n",
    "plt.close()"
   ]
  },
  {
   "cell_type": "code",
   "execution_count": null,
   "metadata": {
    "id": "mBJoclTMRqf2"
   },
   "outputs": [],
   "source": []
  }
 ],
 "metadata": {
  "accelerator": "GPU",
  "colab": {
   "authorship_tag": "ABX9TyMNBp7NK7RLUc1rq7U+5cXk",
   "collapsed_sections": [],
   "mount_file_id": "1d-EagGzotwbbDqS92ruyGBEapN8qXL0S",
   "name": "QCNN-BellCircuit.ipynb",
   "provenance": []
  },
  "kernelspec": {
   "display_name": "Python 3",
   "language": "python",
   "name": "python3"
  },
  "language_info": {
   "codemirror_mode": {
    "name": "ipython",
    "version": 3
   },
   "file_extension": ".py",
   "mimetype": "text/x-python",
   "name": "python",
   "nbconvert_exporter": "python",
   "pygments_lexer": "ipython3",
   "version": "3.8.10"
  }
 },
 "nbformat": 4,
 "nbformat_minor": 4
}
